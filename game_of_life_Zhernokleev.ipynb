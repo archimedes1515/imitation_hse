{
 "cells": [
  {
   "cell_type": "markdown",
   "id": "c21eb50e",
   "metadata": {},
   "source": [
    "## Контрольная работа\n",
    "### Game of life\n",
    "### Жерноклеев Дмитрий"
   ]
  },
  {
   "cell_type": "markdown",
   "id": "a81625a2",
   "metadata": {},
   "source": [
    "## Реализация Игры \"Жизнь\" Конвэя, построенная в агентной среде с дискретным временем, дискретным пространством и моделью соседства Мура. Игра проводится на разбитом на клетки поле. У каждой клетки есть восемь соседей (граничащие клетки). Клетка может быть живой или мертвой. Она гибнет, если ее окрестность перенаселена (более $3$-х клеток) или пустынна (менее $2$-х клеток); клетка выживает, если число соседей равно $2$ или $3$; клетка рождается, если число соседей равно $3$. Агенты в этой модели могут рассматриваться как клеточные автоматы."
   ]
  },
  {
   "cell_type": "markdown",
   "id": "e57f1ba1",
   "metadata": {},
   "source": [
    "### Задание\n",
    "Реализовать дополнительно следующую логику:\n",
    "\n",
    "1. Сделать начальную пропорцию живых клеток не константой, а параметром модели.\n",
    "2. Если клетка жива на протяжении $k$ шагов, то на следующем шаге она умирает без относительно исходного алгоритма ($k$ – параметр).\n",
    "3. Каждые $m$ шагов \"оживают\" $n$ случайно выбранных клеток ($m$, $n$ – параметры).\n",
    "\n",
    "Вывести график количества живых клеток по времени, а также вычислить математическое ожидание и дисперсию числа живых клеток на 50-м шаге моделирования при варьировании параметрами $k$ от $3$ до $5$, $m$ от $2$ до $5$ и $n$ от $1$ до $5$."
   ]
  },
  {
   "cell_type": "code",
   "execution_count": 1,
   "id": "0a5d2998",
   "metadata": {
    "ExecuteTime": {
     "end_time": "2022-04-22T12:28:28.812109Z",
     "start_time": "2022-04-22T12:28:28.800101Z"
    }
   },
   "outputs": [],
   "source": [
    "import nest_asyncio\n",
    "nest_asyncio.apply()"
   ]
  },
  {
   "cell_type": "code",
   "execution_count": 2,
   "id": "6101b6ce",
   "metadata": {
    "ExecuteTime": {
     "end_time": "2022-04-22T12:28:29.404726Z",
     "start_time": "2022-04-22T12:28:29.163728Z"
    }
   },
   "outputs": [],
   "source": [
    "from mesa import Model, Agent\n",
    "from mesa.visualization.modules import CanvasGrid\n",
    "from mesa.time import SimultaneousActivation\n",
    "from mesa.space import Grid\n",
    "from mesa.visualization.ModularVisualization import ModularServer"
   ]
  },
  {
   "cell_type": "code",
   "execution_count": 3,
   "id": "32be5622",
   "metadata": {
    "ExecuteTime": {
     "end_time": "2022-04-22T12:28:30.421543Z",
     "start_time": "2022-04-22T12:28:29.633236Z"
    }
   },
   "outputs": [],
   "source": [
    "from mesa.datacollection import DataCollector\n",
    "import numpy as np\n",
    "import pandas as pd\n",
    "import itertools\n",
    "import matplotlib.pyplot as plt\n",
    "%matplotlib inline"
   ]
  },
  {
   "cell_type": "markdown",
   "id": "f39489c5",
   "metadata": {},
   "source": [
    "## Модель Игра Жизнь"
   ]
  },
  {
   "cell_type": "markdown",
   "id": "6e17c32a",
   "metadata": {},
   "source": [
    "### Инициализация стартовой модели"
   ]
  },
  {
   "cell_type": "code",
   "execution_count": 4,
   "id": "ac9a42ac",
   "metadata": {
    "ExecuteTime": {
     "end_time": "2022-04-22T12:28:33.431479Z",
     "start_time": "2022-04-22T12:28:33.399527Z"
    }
   },
   "outputs": [],
   "source": [
    "class Cell(Agent):\n",
    "    \"\"\"Represents a single ALIVE or DEAD cell in the simulation.\"\"\"\n",
    "\n",
    "    DEAD = 0\n",
    "    ALIVE = 1\n",
    "\n",
    "    def __init__(self, pos, model, init_state=DEAD):\n",
    "        \"\"\"\n",
    "        Create a cell, in the given state, at the given x, y position.\n",
    "        \"\"\"\n",
    "        super().__init__(pos, model)\n",
    "        self.x, self.y = pos\n",
    "        self.state = init_state\n",
    "        self._nextState = None\n",
    "        self.lifetime = 0 # длительность жизни клетки в шагах\n",
    "\n",
    "    @property\n",
    "    def isAlive(self):\n",
    "        return self.state == self.ALIVE\n",
    "\n",
    "    @property\n",
    "    def neighbors(self):\n",
    "        return self.model.grid.neighbor_iter((self.x, self.y), True)\n",
    "\n",
    "    def step(self):\n",
    "        \"\"\"\n",
    "        Compute if the cell will be dead or alive at the next tick.  This is\n",
    "        based on the number of alive or dead neighbors.  The state is not\n",
    "        changed here, but is just computed and stored in self._nextState,\n",
    "        because our current state may still be necessary for our neighbors\n",
    "        to calculate their next state.\n",
    "        \"\"\"\n",
    "\n",
    "        # Get the neighbors and apply the rules on whether to be alive or dead\n",
    "        # at the next tick.\n",
    "        live_neighbors = sum(neighbor.isAlive for neighbor in self.neighbors)\n",
    "\n",
    "        # Assume nextState is unchanged, unless changed below.\n",
    "        self._nextState = self.state\n",
    "        if self.isAlive:\n",
    "            if live_neighbors < 2 or live_neighbors > 3:\n",
    "                self._nextState = self.DEAD\n",
    "                self.lifetime = 0 # зануляем длительность жизни после смерти\n",
    "            elif self.lifetime == (self.model.k - 1): # условие на длительность жизни\n",
    "                self._nextState = self.DEAD # если выполняется, клетка также умирает\n",
    "                self.lifetime = 0\n",
    "            else:\n",
    "                self.lifetime += 1 # продолжает жить => увеличиваем \"возраст\"\n",
    "        else:\n",
    "            if live_neighbors == 3:\n",
    "                self._nextState = self.ALIVE\n",
    "\n",
    "    def advance(self):\n",
    "        \"\"\"\n",
    "        Set the state to the new computed state -- computed in step().\n",
    "        \"\"\"\n",
    "        self.state = self._nextState"
   ]
  },
  {
   "cell_type": "code",
   "execution_count": 5,
   "id": "ea33551e",
   "metadata": {
    "ExecuteTime": {
     "end_time": "2022-04-22T12:28:34.862272Z",
     "start_time": "2022-04-22T12:28:34.844288Z"
    }
   },
   "outputs": [],
   "source": [
    "def alive_count(model): # функция для подсчета числа живых клеток\n",
    "    states_list = [i.state for i in model.grid]\n",
    "    return sum(states_list)"
   ]
  },
  {
   "cell_type": "code",
   "execution_count": 6,
   "id": "dabb7cab",
   "metadata": {
    "ExecuteTime": {
     "end_time": "2022-04-22T12:28:40.798914Z",
     "start_time": "2022-04-22T12:28:40.782919Z"
    }
   },
   "outputs": [],
   "source": [
    "class ConwaysGameOfLife(Model):\n",
    "    \"\"\"\n",
    "    Represents the 2-dimensional array of cells in Conway's\n",
    "    Game of Life.\n",
    "    \"\"\"\n",
    "    \n",
    "    def __init__(self, height=50, width=50, alive_proportion=0.1, k=4, m=4, n=3):\n",
    "        \"\"\"\n",
    "        Create a new playing area of (height, width) cells.\n",
    "        \"\"\"\n",
    "\n",
    "        # Set up the grid and schedule.\n",
    "\n",
    "        # Use SimultaneousActivation which simulates all the cells\n",
    "        # computing their next state simultaneously.  This needs to\n",
    "        # be done because each cell's next state depends on the current\n",
    "        # state of all its neighbors -- before they've changed.\n",
    "        self.schedule = SimultaneousActivation(self)\n",
    "\n",
    "        # Use a simple grid, where edges wrap around.\n",
    "        self.grid = Grid(height, width, torus=True)\n",
    "        \n",
    "        buf_grid = np.zeros((height, width), int) # вспомогательный \"грид\" из нулей,\n",
    "                                                  # на который кидаем случайно 1 в соответствии \n",
    "                                                  # с заданной пропорцией живых клеток\n",
    "        choices = np.random.choice(buf_grid.size, \n",
    "                                   int(height * width * alive_proportion), replace=False)\n",
    "        buf_grid.ravel()[choices] = 1 \n",
    "        # print(buf_grid)\n",
    "        self.height = height\n",
    "        self.width = width\n",
    "        self.k = k # параметры, требуемые по заданию\n",
    "        self.m = m\n",
    "        self.n = n\n",
    "        self.cur_step_num = 0 # номер текущего шага\n",
    "\n",
    "        # Place a cell at each location, with some initialized to\n",
    "        # ALIVE and some to DEAD.\n",
    "        for (contents, x, y) in self.grid.coord_iter():\n",
    "            cell = Cell((x, y), self)\n",
    "            # if self.random.random() < alive_proportion: # более \"простая\" реализация\n",
    "            #    cell.state = cell.ALIVE\n",
    "            if buf_grid[x, y] == 1: # 1 в соответствующей ячейке => объявляем живой\n",
    "                cell.state = cell.ALIVE\n",
    "            self.grid.place_agent(cell, (x, y))\n",
    "            self.schedule.add(cell)\n",
    "\n",
    "        self.running = True\n",
    "        \n",
    "        self.datacollector = DataCollector(\n",
    "            model_reporters={\"Alive_count\": alive_count}) # для сбора данных по прогону модели\n",
    "\n",
    "    def step(self):\n",
    "        \"\"\"\n",
    "        Have the scheduler advance each cell by one step\n",
    "        \"\"\"\n",
    "        self.datacollector.collect(self)\n",
    "        self.schedule.step()\n",
    "        self.cur_step_num += 1\n",
    "        if self.cur_step_num % self.m == 0 and self.cur_step_num > 0:\n",
    "            cnt = 0\n",
    "            while True: # оживляем каждые m шагов n случайных клеток\n",
    "                x_rand = np.random.randint(0, self.height)\n",
    "                y_rand = np.random.randint(0, self.width)\n",
    "                rand_pos = (x_rand, y_rand)\n",
    "                if len(self.grid.get_cell_list_contents([rand_pos])) == 1:\n",
    "                    rand_cell = self.grid.get_cell_list_contents([rand_pos]).pop()\n",
    "                    if rand_cell.state == rand_cell.DEAD: # проверяем, мертвая ли та,\n",
    "                        rand_cell.state = rand_cell.ALIVE # которую хотим оживить\n",
    "                        cnt += 1\n",
    "                else:\n",
    "                    print('some trouble')\n",
    "                if cnt == self.n:\n",
    "                    break        "
   ]
  },
  {
   "cell_type": "code",
   "execution_count": 19,
   "id": "2a988bd3",
   "metadata": {
    "ExecuteTime": {
     "end_time": "2022-04-22T11:07:29.164711Z",
     "start_time": "2022-04-22T11:07:28.399460Z"
    }
   },
   "outputs": [],
   "source": [
    "model = ConwaysGameOfLife(height=50, width=50, alive_proportion=0.1, k=4, m=4, n=3)\n",
    "for i in range(50):\n",
    "    model.step()"
   ]
  },
  {
   "cell_type": "code",
   "execution_count": 20,
   "id": "b69a40e3",
   "metadata": {
    "ExecuteTime": {
     "end_time": "2022-04-22T11:07:29.323108Z",
     "start_time": "2022-04-22T11:07:29.166413Z"
    }
   },
   "outputs": [
    {
     "data": {
      "image/png": "[encoded data removed]",
      "text/plain": [
       "<Figure size 864x432 with 1 Axes>"
      ]
     },
     "metadata": {
      "needs_background": "light"
     },
     "output_type": "display_data"
    }
   ],
   "source": [
    "alive_amount = model.datacollector.get_model_vars_dataframe()\n",
    "alive_amount.plot(figsize=(12, 6))\n",
    "plt.title('График количества живых клеток по времени', weight='bold')\n",
    "plt.show()"
   ]
  },
  {
   "cell_type": "code",
   "execution_count": 21,
   "id": "32b30ec6",
   "metadata": {
    "ExecuteTime": {
     "end_time": "2022-04-22T11:07:29.338878Z",
     "start_time": "2022-04-22T11:07:29.325887Z"
    }
   },
   "outputs": [
    {
     "data": {
      "text/html": [
       "<div>\n",
       "<style scoped>\n",
       "    .dataframe tbody tr th:only-of-type {\n",
       "        vertical-align: middle;\n",
       "    }\n",
       "\n",
       "    .dataframe tbody tr th {\n",
       "        vertical-align: top;\n",
       "    }\n",
       "\n",
       "    .dataframe thead th {\n",
       "        text-align: right;\n",
       "    }\n",
       "</style>\n",
       "<table border=\"1\" class=\"dataframe\">\n",
       "  <thead>\n",
       "    <tr style=\"text-align: right;\">\n",
       "      <th></th>\n",
       "      <th>Alive_count</th>\n",
       "    </tr>\n",
       "  </thead>\n",
       "  <tbody>\n",
       "    <tr>\n",
       "      <th>40</th>\n",
       "      <td>11</td>\n",
       "    </tr>\n",
       "    <tr>\n",
       "      <th>41</th>\n",
       "      <td>8</td>\n",
       "    </tr>\n",
       "    <tr>\n",
       "      <th>42</th>\n",
       "      <td>8</td>\n",
       "    </tr>\n",
       "    <tr>\n",
       "      <th>43</th>\n",
       "      <td>9</td>\n",
       "    </tr>\n",
       "    <tr>\n",
       "      <th>44</th>\n",
       "      <td>11</td>\n",
       "    </tr>\n",
       "    <tr>\n",
       "      <th>45</th>\n",
       "      <td>8</td>\n",
       "    </tr>\n",
       "    <tr>\n",
       "      <th>46</th>\n",
       "      <td>8</td>\n",
       "    </tr>\n",
       "    <tr>\n",
       "      <th>47</th>\n",
       "      <td>8</td>\n",
       "    </tr>\n",
       "    <tr>\n",
       "      <th>48</th>\n",
       "      <td>12</td>\n",
       "    </tr>\n",
       "    <tr>\n",
       "      <th>49</th>\n",
       "      <td>8</td>\n",
       "    </tr>\n",
       "  </tbody>\n",
       "</table>\n",
       "</div>"
      ],
      "text/plain": [
       "    Alive_count\n",
       "40           11\n",
       "41            8\n",
       "42            8\n",
       "43            9\n",
       "44           11\n",
       "45            8\n",
       "46            8\n",
       "47            8\n",
       "48           12\n",
       "49            8"
      ]
     },
     "execution_count": 21,
     "metadata": {},
     "output_type": "execute_result"
    }
   ],
   "source": [
    "alive_amount.tail(10)"
   ]
  },
  {
   "cell_type": "code",
   "execution_count": 22,
   "id": "6ef3a2b7",
   "metadata": {
    "ExecuteTime": {
     "end_time": "2022-04-22T11:07:57.580780Z",
     "start_time": "2022-04-22T11:07:35.021519Z"
    }
   },
   "outputs": [],
   "source": [
    "df_cyc = alive_amount.copy()\n",
    "for j in range(30):\n",
    "    model_cyc = ConwaysGameOfLife(height=50, width=50, alive_proportion=0.1, k=4, m=4, n=3) \n",
    "    for i in range(50):\n",
    "        model_cyc.step()\n",
    "    alive_amount_cyc = model_cyc.datacollector.get_model_vars_dataframe()\n",
    "    df_cyc['Alive_count' + str(j)] = alive_amount_cyc['Alive_count']"
   ]
  },
  {
   "cell_type": "code",
   "execution_count": 23,
   "id": "587461d6",
   "metadata": {
    "ExecuteTime": {
     "end_time": "2022-04-22T11:07:57.788516Z",
     "start_time": "2022-04-22T11:07:57.582478Z"
    }
   },
   "outputs": [
    {
     "data": {
      "image/png": "[encoded data removed]",
      "text/plain": [
       "<Figure size 864x432 with 1 Axes>"
      ]
     },
     "metadata": {
      "needs_background": "light"
     },
     "output_type": "display_data"
    }
   ],
   "source": [
    "df_cyc.plot(legend=False, figsize=(12, 6))\n",
    "plt.title('График количества живых клеток по времени (несколько прогонок)', weight='bold')\n",
    "plt.show()"
   ]
  },
  {
   "cell_type": "code",
   "execution_count": 24,
   "id": "74f5d5af",
   "metadata": {
    "ExecuteTime": {
     "end_time": "2022-04-22T11:07:57.804515Z",
     "start_time": "2022-04-22T11:07:57.790475Z"
    }
   },
   "outputs": [],
   "source": [
    "# Вычислим мат. ожидание и дисперсию числа живых клеток на 50-м шаге моделирования при варьировании параметрами, \n",
    "# выполняя по одной прогонке для каждого набора параметров\n",
    "# stat_df = pd.DataFrame(columns=['k', 'm', 'n', 'alive_amount'])\n",
    "# k_lst = [i for i in range(3, 6)] # k от 3 до 5, m от 2 до 5 и n от 1 до 5\n",
    "# m_lst = [i for i in range(2, 6)] \n",
    "# n_lst = [i for i in range(1, 6)]\n",
    "\n",
    "# lists = [k_lst, m_lst, n_lst]\n",
    "# prod_list = itertools.product(*lists)\n",
    "# for el in prod_list: # варьируем параметры\n",
    "#     k, m, n = el\n",
    "#     model_run = ConwaysGameOfLife(height=50, width=50, alive_proportion=0.1, k=k, m=m, n=n)\n",
    "#     for i in range(50):\n",
    "#         model_run.step()\n",
    "#     alive_amount_run = model_run.datacollector.get_model_vars_dataframe()\n",
    "#     alive_amount_run_val = alive_amount_run['Alive_count'].iloc[-1]\n",
    "#     d = {'k': k, 'm': m, 'n': n, \n",
    "#          'alive_amount': alive_amount_run_val} # после прогонки модели\n",
    "#     stat_df = stat_df.append(d, ignore_index=True) # добавляем полученное значение \n",
    "#                                               # кол-ва живых клеток на 50-м шаге в датафрейм \n",
    "# print('''Мат. ожидание числа живых клеток на 50-м шаге при варьировании параметров = {0:.2f} \n",
    "# Дисперсия числа живых клеток на 50-м шаге при варьировании параметров = {1:.2f}'''.format(\n",
    "#     stat_df['alive_amount'].mean(), stat_df['alive_amount'].var()))\n",
    "# stat_df"
   ]
  },
  {
   "cell_type": "markdown",
   "id": "9a9b85bd",
   "metadata": {},
   "source": [
    "Вычислим мат. ожидание и дисперсию числа живых клеток на 50-м шаге моделирования при варьировании параметрами, выполняя мультистарт для каждого набора параметров"
   ]
  },
  {
   "cell_type": "code",
   "execution_count": 7,
   "id": "53198aa9",
   "metadata": {
    "ExecuteTime": {
     "end_time": "2022-04-22T12:28:51.740023Z",
     "start_time": "2022-04-22T12:28:51.724032Z"
    }
   },
   "outputs": [],
   "source": [
    "k_lst = [i for i in range(3, 6)] # k от 3 до 5, m от 2 до 5 и n от 1 до 5\n",
    "m_lst = [i for i in range(2, 6)] \n",
    "n_lst = [i for i in range(1, 6)]\n",
    "\n",
    "lists = [k_lst, m_lst, n_lst]\n",
    "prod_list = itertools.product(*lists)\n",
    "\n",
    "idx = pd.MultiIndex.from_tuples((), names=('(k, m, n)', 'RunNum'))\n",
    "multi_df = pd.DataFrame(index=idx, columns=['alive_amount'])"
   ]
  },
  {
   "cell_type": "code",
   "execution_count": 8,
   "id": "d041e6f5",
   "metadata": {
    "ExecuteTime": {
     "end_time": "2022-04-22T13:58:13.293318Z",
     "start_time": "2022-04-22T12:29:23.488832Z"
    }
   },
   "outputs": [],
   "source": [
    "for el in prod_list: # варьируем параметры\n",
    "    k, m, n = el\n",
    "    for j in range(120):\n",
    "        model_run = ConwaysGameOfLife(height=50, width=50, alive_proportion=0.1, k=k, m=m, n=n)\n",
    "        for i in range(50):\n",
    "            model_run.step()\n",
    "        alive_amount_run = model_run.datacollector.get_model_vars_dataframe()\n",
    "        multi_df.loc[((k, m, n), j), :] = alive_amount_run['Alive_count'].iloc[-1]"
   ]
  },
  {
   "cell_type": "code",
   "execution_count": 9,
   "id": "bb6fa38b",
   "metadata": {
    "ExecuteTime": {
     "end_time": "2022-04-22T13:58:13.340294Z",
     "start_time": "2022-04-22T13:58:13.297301Z"
    }
   },
   "outputs": [
    {
     "name": "stdout",
     "output_type": "stream",
     "text": [
      "Мат. ожидание числа живых клеток на 50-м шаге при варьировании параметров = 4.88 \n",
      "Дисперсия числа живых клеток на 50-м шаге при варьировании параметров = 102.93\n"
     ]
    }
   ],
   "source": [
    "print('''Мат. ожидание числа живых клеток на 50-м шаге при варьировании параметров = {0:.2f} \n",
    "Дисперсия числа живых клеток на 50-м шаге при варьировании параметров = {1:.2f}'''.format(\n",
    "    multi_df['alive_amount'].mean(), multi_df['alive_amount'].var()))"
   ]
  },
  {
   "cell_type": "markdown",
   "id": "5615921f",
   "metadata": {},
   "source": [
    "Теперь подсчитаем статистики не по всей выборке, а отдельно по каждому набору параметров."
   ]
  },
  {
   "cell_type": "code",
   "execution_count": 10,
   "id": "55a75102",
   "metadata": {
    "ExecuteTime": {
     "end_time": "2022-04-22T14:00:14.601968Z",
     "start_time": "2022-04-22T14:00:14.501973Z"
    },
    "scrolled": true
   },
   "outputs": [
    {
     "data": {
      "text/html": [
       "<div>\n",
       "<style scoped>\n",
       "    .dataframe tbody tr th:only-of-type {\n",
       "        vertical-align: middle;\n",
       "    }\n",
       "\n",
       "    .dataframe tbody tr th {\n",
       "        vertical-align: top;\n",
       "    }\n",
       "\n",
       "    .dataframe thead th {\n",
       "        text-align: right;\n",
       "    }\n",
       "</style>\n",
       "<table border=\"1\" class=\"dataframe\">\n",
       "  <thead>\n",
       "    <tr style=\"text-align: right;\">\n",
       "      <th></th>\n",
       "      <th>Мат. ожидание</th>\n",
       "      <th>Дисперсия</th>\n",
       "      <th>Станд. откл.</th>\n",
       "    </tr>\n",
       "    <tr>\n",
       "      <th>Набор параметров</th>\n",
       "      <th></th>\n",
       "      <th></th>\n",
       "      <th></th>\n",
       "    </tr>\n",
       "  </thead>\n",
       "  <tbody>\n",
       "    <tr>\n",
       "      <th>(3, 2, 1)</th>\n",
       "      <td>0.625000</td>\n",
       "      <td>1.950630</td>\n",
       "      <td>1.396650</td>\n",
       "    </tr>\n",
       "    <tr>\n",
       "      <th>(3, 2, 2)</th>\n",
       "      <td>0.500000</td>\n",
       "      <td>1.260504</td>\n",
       "      <td>1.122722</td>\n",
       "    </tr>\n",
       "    <tr>\n",
       "      <th>(3, 2, 3)</th>\n",
       "      <td>0.716667</td>\n",
       "      <td>3.398039</td>\n",
       "      <td>1.843377</td>\n",
       "    </tr>\n",
       "    <tr>\n",
       "      <th>(3, 2, 4)</th>\n",
       "      <td>0.491667</td>\n",
       "      <td>1.478922</td>\n",
       "      <td>1.216109</td>\n",
       "    </tr>\n",
       "    <tr>\n",
       "      <th>(3, 2, 5)</th>\n",
       "      <td>0.250000</td>\n",
       "      <td>1.466387</td>\n",
       "      <td>1.210944</td>\n",
       "    </tr>\n",
       "    <tr>\n",
       "      <th>(3, 3, 1)</th>\n",
       "      <td>0.791667</td>\n",
       "      <td>2.199930</td>\n",
       "      <td>1.483216</td>\n",
       "    </tr>\n",
       "    <tr>\n",
       "      <th>(3, 3, 2)</th>\n",
       "      <td>0.783333</td>\n",
       "      <td>3.297199</td>\n",
       "      <td>1.815819</td>\n",
       "    </tr>\n",
       "    <tr>\n",
       "      <th>(3, 3, 3)</th>\n",
       "      <td>0.808333</td>\n",
       "      <td>3.030182</td>\n",
       "      <td>1.740742</td>\n",
       "    </tr>\n",
       "    <tr>\n",
       "      <th>(3, 3, 4)</th>\n",
       "      <td>0.350000</td>\n",
       "      <td>1.086555</td>\n",
       "      <td>1.042379</td>\n",
       "    </tr>\n",
       "    <tr>\n",
       "      <th>(3, 3, 5)</th>\n",
       "      <td>0.400000</td>\n",
       "      <td>1.048739</td>\n",
       "      <td>1.024080</td>\n",
       "    </tr>\n",
       "    <tr>\n",
       "      <th>(3, 4, 1)</th>\n",
       "      <td>0.725000</td>\n",
       "      <td>2.570798</td>\n",
       "      <td>1.603371</td>\n",
       "    </tr>\n",
       "    <tr>\n",
       "      <th>(3, 4, 2)</th>\n",
       "      <td>0.550000</td>\n",
       "      <td>1.963866</td>\n",
       "      <td>1.401380</td>\n",
       "    </tr>\n",
       "    <tr>\n",
       "      <th>(3, 4, 3)</th>\n",
       "      <td>0.566667</td>\n",
       "      <td>1.928291</td>\n",
       "      <td>1.388629</td>\n",
       "    </tr>\n",
       "    <tr>\n",
       "      <th>(3, 4, 4)</th>\n",
       "      <td>0.616667</td>\n",
       "      <td>1.717367</td>\n",
       "      <td>1.310483</td>\n",
       "    </tr>\n",
       "    <tr>\n",
       "      <th>(3, 4, 5)</th>\n",
       "      <td>0.575000</td>\n",
       "      <td>2.280042</td>\n",
       "      <td>1.509981</td>\n",
       "    </tr>\n",
       "    <tr>\n",
       "      <th>(3, 5, 1)</th>\n",
       "      <td>0.650000</td>\n",
       "      <td>1.842857</td>\n",
       "      <td>1.357519</td>\n",
       "    </tr>\n",
       "    <tr>\n",
       "      <th>(3, 5, 2)</th>\n",
       "      <td>0.675000</td>\n",
       "      <td>2.036345</td>\n",
       "      <td>1.427005</td>\n",
       "    </tr>\n",
       "    <tr>\n",
       "      <th>(3, 5, 3)</th>\n",
       "      <td>0.558333</td>\n",
       "      <td>1.710854</td>\n",
       "      <td>1.307996</td>\n",
       "    </tr>\n",
       "    <tr>\n",
       "      <th>(3, 5, 4)</th>\n",
       "      <td>0.508333</td>\n",
       "      <td>1.613375</td>\n",
       "      <td>1.270187</td>\n",
       "    </tr>\n",
       "    <tr>\n",
       "      <th>(3, 5, 5)</th>\n",
       "      <td>0.425000</td>\n",
       "      <td>1.103571</td>\n",
       "      <td>1.050510</td>\n",
       "    </tr>\n",
       "    <tr>\n",
       "      <th>(4, 2, 1)</th>\n",
       "      <td>2.741667</td>\n",
       "      <td>19.604972</td>\n",
       "      <td>4.427750</td>\n",
       "    </tr>\n",
       "    <tr>\n",
       "      <th>(4, 2, 2)</th>\n",
       "      <td>3.041667</td>\n",
       "      <td>29.048669</td>\n",
       "      <td>5.389682</td>\n",
       "    </tr>\n",
       "    <tr>\n",
       "      <th>(4, 2, 3)</th>\n",
       "      <td>2.075000</td>\n",
       "      <td>15.061555</td>\n",
       "      <td>3.880922</td>\n",
       "    </tr>\n",
       "    <tr>\n",
       "      <th>(4, 2, 4)</th>\n",
       "      <td>2.700000</td>\n",
       "      <td>23.657143</td>\n",
       "      <td>4.863861</td>\n",
       "    </tr>\n",
       "    <tr>\n",
       "      <th>(4, 2, 5)</th>\n",
       "      <td>3.200000</td>\n",
       "      <td>29.673950</td>\n",
       "      <td>5.447380</td>\n",
       "    </tr>\n",
       "    <tr>\n",
       "      <th>(4, 3, 1)</th>\n",
       "      <td>3.591667</td>\n",
       "      <td>36.848669</td>\n",
       "      <td>6.070310</td>\n",
       "    </tr>\n",
       "    <tr>\n",
       "      <th>(4, 3, 2)</th>\n",
       "      <td>4.941667</td>\n",
       "      <td>64.425140</td>\n",
       "      <td>8.026527</td>\n",
       "    </tr>\n",
       "    <tr>\n",
       "      <th>(4, 3, 3)</th>\n",
       "      <td>3.700000</td>\n",
       "      <td>27.842017</td>\n",
       "      <td>5.276553</td>\n",
       "    </tr>\n",
       "    <tr>\n",
       "      <th>(4, 3, 4)</th>\n",
       "      <td>3.258333</td>\n",
       "      <td>27.941106</td>\n",
       "      <td>5.285935</td>\n",
       "    </tr>\n",
       "    <tr>\n",
       "      <th>(4, 3, 5)</th>\n",
       "      <td>2.791667</td>\n",
       "      <td>33.762955</td>\n",
       "      <td>5.810590</td>\n",
       "    </tr>\n",
       "    <tr>\n",
       "      <th>(4, 4, 1)</th>\n",
       "      <td>2.508333</td>\n",
       "      <td>18.554552</td>\n",
       "      <td>4.307499</td>\n",
       "    </tr>\n",
       "    <tr>\n",
       "      <th>(4, 4, 2)</th>\n",
       "      <td>2.975000</td>\n",
       "      <td>20.915336</td>\n",
       "      <td>4.573329</td>\n",
       "    </tr>\n",
       "    <tr>\n",
       "      <th>(4, 4, 3)</th>\n",
       "      <td>2.541667</td>\n",
       "      <td>20.082283</td>\n",
       "      <td>4.481326</td>\n",
       "    </tr>\n",
       "    <tr>\n",
       "      <th>(4, 4, 4)</th>\n",
       "      <td>3.241667</td>\n",
       "      <td>32.638585</td>\n",
       "      <td>5.713019</td>\n",
       "    </tr>\n",
       "    <tr>\n",
       "      <th>(4, 4, 5)</th>\n",
       "      <td>3.633333</td>\n",
       "      <td>36.956863</td>\n",
       "      <td>6.079216</td>\n",
       "    </tr>\n",
       "    <tr>\n",
       "      <th>(4, 5, 1)</th>\n",
       "      <td>2.566667</td>\n",
       "      <td>19.390476</td>\n",
       "      <td>4.403462</td>\n",
       "    </tr>\n",
       "    <tr>\n",
       "      <th>(4, 5, 2)</th>\n",
       "      <td>3.733333</td>\n",
       "      <td>36.096359</td>\n",
       "      <td>6.008025</td>\n",
       "    </tr>\n",
       "    <tr>\n",
       "      <th>(4, 5, 3)</th>\n",
       "      <td>3.650000</td>\n",
       "      <td>43.069748</td>\n",
       "      <td>6.562755</td>\n",
       "    </tr>\n",
       "    <tr>\n",
       "      <th>(4, 5, 4)</th>\n",
       "      <td>3.341667</td>\n",
       "      <td>35.319258</td>\n",
       "      <td>5.943001</td>\n",
       "    </tr>\n",
       "    <tr>\n",
       "      <th>(4, 5, 5)</th>\n",
       "      <td>2.150000</td>\n",
       "      <td>14.716807</td>\n",
       "      <td>3.836249</td>\n",
       "    </tr>\n",
       "    <tr>\n",
       "      <th>(5, 2, 1)</th>\n",
       "      <td>11.558333</td>\n",
       "      <td>213.290686</td>\n",
       "      <td>14.604475</td>\n",
       "    </tr>\n",
       "    <tr>\n",
       "      <th>(5, 2, 2)</th>\n",
       "      <td>10.725000</td>\n",
       "      <td>211.696849</td>\n",
       "      <td>14.549806</td>\n",
       "    </tr>\n",
       "    <tr>\n",
       "      <th>(5, 2, 3)</th>\n",
       "      <td>12.791667</td>\n",
       "      <td>279.477241</td>\n",
       "      <td>16.717573</td>\n",
       "    </tr>\n",
       "    <tr>\n",
       "      <th>(5, 2, 4)</th>\n",
       "      <td>13.533333</td>\n",
       "      <td>359.024090</td>\n",
       "      <td>18.947931</td>\n",
       "    </tr>\n",
       "    <tr>\n",
       "      <th>(5, 2, 5)</th>\n",
       "      <td>14.641667</td>\n",
       "      <td>322.803291</td>\n",
       "      <td>17.966727</td>\n",
       "    </tr>\n",
       "    <tr>\n",
       "      <th>(5, 3, 1)</th>\n",
       "      <td>7.975000</td>\n",
       "      <td>113.369118</td>\n",
       "      <td>10.647493</td>\n",
       "    </tr>\n",
       "    <tr>\n",
       "      <th>(5, 3, 2)</th>\n",
       "      <td>12.341667</td>\n",
       "      <td>210.747829</td>\n",
       "      <td>14.517156</td>\n",
       "    </tr>\n",
       "    <tr>\n",
       "      <th>(5, 3, 3)</th>\n",
       "      <td>11.233333</td>\n",
       "      <td>215.894678</td>\n",
       "      <td>14.693355</td>\n",
       "    </tr>\n",
       "    <tr>\n",
       "      <th>(5, 3, 4)</th>\n",
       "      <td>14.258333</td>\n",
       "      <td>324.092367</td>\n",
       "      <td>18.002566</td>\n",
       "    </tr>\n",
       "    <tr>\n",
       "      <th>(5, 3, 5)</th>\n",
       "      <td>13.075000</td>\n",
       "      <td>279.969118</td>\n",
       "      <td>16.732278</td>\n",
       "    </tr>\n",
       "    <tr>\n",
       "      <th>(5, 4, 1)</th>\n",
       "      <td>9.433333</td>\n",
       "      <td>183.524930</td>\n",
       "      <td>13.547137</td>\n",
       "    </tr>\n",
       "    <tr>\n",
       "      <th>(5, 4, 2)</th>\n",
       "      <td>10.175000</td>\n",
       "      <td>230.448109</td>\n",
       "      <td>15.180517</td>\n",
       "    </tr>\n",
       "    <tr>\n",
       "      <th>(5, 4, 3)</th>\n",
       "      <td>9.933333</td>\n",
       "      <td>204.650980</td>\n",
       "      <td>14.305628</td>\n",
       "    </tr>\n",
       "    <tr>\n",
       "      <th>(5, 4, 4)</th>\n",
       "      <td>8.141667</td>\n",
       "      <td>129.803291</td>\n",
       "      <td>11.393125</td>\n",
       "    </tr>\n",
       "    <tr>\n",
       "      <th>(5, 4, 5)</th>\n",
       "      <td>9.050000</td>\n",
       "      <td>154.787395</td>\n",
       "      <td>12.441358</td>\n",
       "    </tr>\n",
       "    <tr>\n",
       "      <th>(5, 5, 1)</th>\n",
       "      <td>11.275000</td>\n",
       "      <td>211.293487</td>\n",
       "      <td>14.535938</td>\n",
       "    </tr>\n",
       "    <tr>\n",
       "      <th>(5, 5, 2)</th>\n",
       "      <td>9.416667</td>\n",
       "      <td>121.589636</td>\n",
       "      <td>11.026769</td>\n",
       "    </tr>\n",
       "    <tr>\n",
       "      <th>(5, 5, 3)</th>\n",
       "      <td>10.425000</td>\n",
       "      <td>206.817857</td>\n",
       "      <td>14.381163</td>\n",
       "    </tr>\n",
       "    <tr>\n",
       "      <th>(5, 5, 4)</th>\n",
       "      <td>8.950000</td>\n",
       "      <td>192.787395</td>\n",
       "      <td>13.884790</td>\n",
       "    </tr>\n",
       "    <tr>\n",
       "      <th>(5, 5, 5)</th>\n",
       "      <td>9.683333</td>\n",
       "      <td>178.016527</td>\n",
       "      <td>13.342283</td>\n",
       "    </tr>\n",
       "  </tbody>\n",
       "</table>\n",
       "</div>"
      ],
      "text/plain": [
       "                  Мат. ожидание   Дисперсия  Станд. откл.\n",
       "Набор параметров                                         \n",
       "(3, 2, 1)              0.625000    1.950630      1.396650\n",
       "(3, 2, 2)              0.500000    1.260504      1.122722\n",
       "(3, 2, 3)              0.716667    3.398039      1.843377\n",
       "(3, 2, 4)              0.491667    1.478922      1.216109\n",
       "(3, 2, 5)              0.250000    1.466387      1.210944\n",
       "(3, 3, 1)              0.791667    2.199930      1.483216\n",
       "(3, 3, 2)              0.783333    3.297199      1.815819\n",
       "(3, 3, 3)              0.808333    3.030182      1.740742\n",
       "(3, 3, 4)              0.350000    1.086555      1.042379\n",
       "(3, 3, 5)              0.400000    1.048739      1.024080\n",
       "(3, 4, 1)              0.725000    2.570798      1.603371\n",
       "(3, 4, 2)              0.550000    1.963866      1.401380\n",
       "(3, 4, 3)              0.566667    1.928291      1.388629\n",
       "(3, 4, 4)              0.616667    1.717367      1.310483\n",
       "(3, 4, 5)              0.575000    2.280042      1.509981\n",
       "(3, 5, 1)              0.650000    1.842857      1.357519\n",
       "(3, 5, 2)              0.675000    2.036345      1.427005\n",
       "(3, 5, 3)              0.558333    1.710854      1.307996\n",
       "(3, 5, 4)              0.508333    1.613375      1.270187\n",
       "(3, 5, 5)              0.425000    1.103571      1.050510\n",
       "(4, 2, 1)              2.741667   19.604972      4.427750\n",
       "(4, 2, 2)              3.041667   29.048669      5.389682\n",
       "(4, 2, 3)              2.075000   15.061555      3.880922\n",
       "(4, 2, 4)              2.700000   23.657143      4.863861\n",
       "(4, 2, 5)              3.200000   29.673950      5.447380\n",
       "(4, 3, 1)              3.591667   36.848669      6.070310\n",
       "(4, 3, 2)              4.941667   64.425140      8.026527\n",
       "(4, 3, 3)              3.700000   27.842017      5.276553\n",
       "(4, 3, 4)              3.258333   27.941106      5.285935\n",
       "(4, 3, 5)              2.791667   33.762955      5.810590\n",
       "(4, 4, 1)              2.508333   18.554552      4.307499\n",
       "(4, 4, 2)              2.975000   20.915336      4.573329\n",
       "(4, 4, 3)              2.541667   20.082283      4.481326\n",
       "(4, 4, 4)              3.241667   32.638585      5.713019\n",
       "(4, 4, 5)              3.633333   36.956863      6.079216\n",
       "(4, 5, 1)              2.566667   19.390476      4.403462\n",
       "(4, 5, 2)              3.733333   36.096359      6.008025\n",
       "(4, 5, 3)              3.650000   43.069748      6.562755\n",
       "(4, 5, 4)              3.341667   35.319258      5.943001\n",
       "(4, 5, 5)              2.150000   14.716807      3.836249\n",
       "(5, 2, 1)             11.558333  213.290686     14.604475\n",
       "(5, 2, 2)             10.725000  211.696849     14.549806\n",
       "(5, 2, 3)             12.791667  279.477241     16.717573\n",
       "(5, 2, 4)             13.533333  359.024090     18.947931\n",
       "(5, 2, 5)             14.641667  322.803291     17.966727\n",
       "(5, 3, 1)              7.975000  113.369118     10.647493\n",
       "(5, 3, 2)             12.341667  210.747829     14.517156\n",
       "(5, 3, 3)             11.233333  215.894678     14.693355\n",
       "(5, 3, 4)             14.258333  324.092367     18.002566\n",
       "(5, 3, 5)             13.075000  279.969118     16.732278\n",
       "(5, 4, 1)              9.433333  183.524930     13.547137\n",
       "(5, 4, 2)             10.175000  230.448109     15.180517\n",
       "(5, 4, 3)              9.933333  204.650980     14.305628\n",
       "(5, 4, 4)              8.141667  129.803291     11.393125\n",
       "(5, 4, 5)              9.050000  154.787395     12.441358\n",
       "(5, 5, 1)             11.275000  211.293487     14.535938\n",
       "(5, 5, 2)              9.416667  121.589636     11.026769\n",
       "(5, 5, 3)             10.425000  206.817857     14.381163\n",
       "(5, 5, 4)              8.950000  192.787395     13.884790\n",
       "(5, 5, 5)              9.683333  178.016527     13.342283"
      ]
     },
     "execution_count": 10,
     "metadata": {},
     "output_type": "execute_result"
    }
   ],
   "source": [
    "mean_std_df = multi_df.groupby('(k, m, n)')['alive_amount'].agg(['mean', 'var', 'std']) \n",
    "mean_std_df.rename(columns={'mean': 'Мат. ожидание', 'var': 'Дисперсия', 'std': 'Станд. откл.'}, inplace=True)\n",
    "mean_std_df.index.names = ['Набор параметров']\n",
    "mean_std_df"
   ]
  },
  {
   "cell_type": "markdown",
   "id": "322b7a2d",
   "metadata": {
    "ExecuteTime": {
     "end_time": "2022-04-22T12:11:11.243771Z",
     "start_time": "2022-04-22T12:11:11.220775Z"
    }
   },
   "source": [
    "Определим, проведено ли достаточное число экспериментов (стартов) по алгоритму, описанному в  \n",
    "https://cyberleninka.ru/article/n/tochnyy-metod-rascheta-neobhodimogo-kolichestva-povtornyh-opytov/viewer"
   ]
  },
  {
   "cell_type": "code",
   "execution_count": 13,
   "id": "a2d4ad81",
   "metadata": {
    "ExecuteTime": {
     "end_time": "2022-04-22T14:01:42.180019Z",
     "start_time": "2022-04-22T14:01:42.146383Z"
    },
    "scrolled": true
   },
   "outputs": [
    {
     "data": {
      "text/plain": [
       "Набор параметров\n",
       "(3, 2, 1)    0.067125\n",
       "(3, 2, 2)    0.066802\n",
       "(3, 2, 3)    0.058317\n",
       "(3, 2, 4)    0.060644\n",
       "(3, 2, 5)    0.030968\n",
       "(3, 3, 1)    0.080063\n",
       "(3, 3, 2)    0.064709\n",
       "(3, 3, 3)    0.069654\n",
       "(3, 3, 4)    0.050366\n",
       "(3, 3, 5)    0.058589\n",
       "(3, 4, 1)    0.067826\n",
       "(3, 4, 2)    0.058871\n",
       "(3, 4, 3)    0.061211\n",
       "(3, 4, 4)    0.070585\n",
       "(3, 4, 5)    0.057120\n",
       "(3, 5, 1)    0.071822\n",
       "(3, 5, 2)    0.070953\n",
       "(3, 5, 3)    0.064029\n",
       "(3, 5, 4)    0.060031\n",
       "(3, 5, 5)    0.060685\n",
       "(4, 2, 1)    0.092880\n",
       "(4, 2, 2)    0.084652\n",
       "(4, 2, 3)    0.080200\n",
       "(4, 2, 4)    0.083267\n",
       "(4, 2, 5)    0.088116\n",
       "(4, 3, 1)    0.088752\n",
       "(4, 3, 2)    0.092350\n",
       "(4, 3, 3)    0.105182\n",
       "(4, 3, 4)    0.092462\n",
       "(4, 3, 5)    0.072067\n",
       "(4, 4, 1)    0.087348\n",
       "(4, 4, 2)    0.097577\n",
       "(4, 4, 3)    0.085075\n",
       "(4, 4, 4)    0.085113\n",
       "(4, 4, 5)    0.089650\n",
       "(4, 5, 1)    0.087431\n",
       "(4, 5, 2)    0.093209\n",
       "(4, 5, 3)    0.083425\n",
       "(4, 5, 4)    0.084343\n",
       "(4, 5, 5)    0.084066\n",
       "(5, 2, 1)    0.118714\n",
       "(5, 2, 2)    0.110568\n",
       "(5, 2, 3)    0.114774\n",
       "(5, 2, 4)    0.107136\n",
       "(5, 2, 5)    0.122240\n",
       "(5, 3, 1)    0.112350\n",
       "(5, 3, 2)    0.127522\n",
       "(5, 3, 3)    0.114678\n",
       "(5, 3, 4)    0.118803\n",
       "(5, 3, 5)    0.117214\n",
       "(5, 4, 1)    0.104450\n",
       "(5, 4, 2)    0.100540\n",
       "(5, 4, 3)    0.104155\n",
       "(5, 4, 4)    0.107192\n",
       "(5, 4, 5)    0.109112\n",
       "(5, 5, 1)    0.116350\n",
       "(5, 5, 2)    0.128097\n",
       "(5, 5, 3)    0.108736\n",
       "(5, 5, 4)    0.096689\n",
       "(5, 5, 5)    0.108864\n",
       "dtype: float64"
      ]
     },
     "execution_count": 13,
     "metadata": {},
     "output_type": "execute_result"
    }
   ],
   "source": [
    "mean_std_df['Мат. ожидание'] * 0.15 / mean_std_df['Станд. откл.']"
   ]
  },
  {
   "cell_type": "markdown",
   "id": "f066afd5",
   "metadata": {},
   "source": [
    "Повторяя ту же процедуру, что и для 40 прогонок, делаем вывод, что 120 так же недостаточно. Времени для ещё одного рестарта и выполнения кода с, видимо, количеством прогонок на один набор, превышающим 200, у меня явно не хватит (по моим подсчетам на моем компьютере это будет исполняться около 2,5 - 3 часов, и не факт, что даже этого количества будет хватать для получения статистически достоверных результатов. Учитывая все выше сказанное, в качестве результатов оставим значения статистик, полученные выше. Дальнейшая \"калибровка\" требует просто увеличения числа прогонок на один набор параметров и времени."
   ]
  },
  {
   "cell_type": "markdown",
   "id": "706b0fee",
   "metadata": {},
   "source": [
    "**Для 40 прогонок (изначальный результат, пояснение в записке):**"
   ]
  },
  {
   "cell_type": "code",
   "execution_count": 37,
   "id": "e9ac7f2a",
   "metadata": {
    "ExecuteTime": {
     "end_time": "2022-04-22T12:18:36.445101Z",
     "start_time": "2022-04-22T12:18:36.430107Z"
    },
    "scrolled": true
   },
   "outputs": [
    {
     "data": {
      "text/plain": [
       "Набор параметров\n",
       "(3, 2, 1)    0.063621\n",
       "(3, 2, 2)    0.064642\n",
       "(3, 2, 3)    0.033979\n",
       "(3, 2, 4)    0.064642\n",
       "(3, 2, 5)    0.053192\n",
       "(3, 3, 1)    0.070354\n",
       "(3, 3, 2)    0.074057\n",
       "(3, 3, 3)    0.058848\n",
       "(3, 3, 4)    0.062220\n",
       "(3, 3, 5)    0.068216\n",
       "(3, 4, 1)    0.068216\n",
       "(3, 4, 2)    0.074057\n",
       "(3, 4, 3)    0.032793\n",
       "(3, 4, 4)    0.085513\n",
       "(3, 4, 5)    0.042175\n",
       "(3, 5, 1)    0.064642\n",
       "(3, 5, 2)    0.052733\n",
       "(3, 5, 3)    0.042175\n",
       "(3, 5, 4)    0.074057\n",
       "(3, 5, 5)    0.064506\n",
       "(4, 2, 1)    0.101343\n",
       "(4, 2, 2)    0.074627\n",
       "(4, 2, 3)    0.091182\n",
       "(4, 2, 4)    0.060312\n",
       "(4, 2, 5)    0.083176\n",
       "(4, 3, 1)    0.082347\n",
       "(4, 3, 2)    0.117274\n",
       "(4, 3, 3)    0.093714\n",
       "(4, 3, 4)    0.086061\n",
       "(4, 3, 5)    0.102825\n",
       "(4, 4, 1)    0.071367\n",
       "(4, 4, 2)    0.060179\n",
       "(4, 4, 3)    0.086341\n",
       "(4, 4, 4)    0.084326\n",
       "(4, 4, 5)    0.072844\n",
       "(4, 5, 1)    0.081836\n",
       "(4, 5, 2)    0.088551\n",
       "(4, 5, 3)    0.103017\n",
       "(4, 5, 4)    0.084764\n",
       "(4, 5, 5)    0.130108\n",
       "(5, 2, 1)    0.115369\n",
       "(5, 2, 2)    0.138352\n",
       "(5, 2, 3)    0.091872\n",
       "(5, 2, 4)    0.106557\n",
       "(5, 2, 5)    0.114479\n",
       "(5, 3, 1)    0.121329\n",
       "(5, 3, 2)    0.095452\n",
       "(5, 3, 3)    0.121067\n",
       "(5, 3, 4)    0.086623\n",
       "(5, 3, 5)    0.107037\n",
       "(5, 4, 1)    0.112214\n",
       "(5, 4, 2)    0.109532\n",
       "(5, 4, 3)    0.120488\n",
       "(5, 4, 4)    0.098302\n",
       "(5, 4, 5)    0.124916\n",
       "(5, 5, 1)    0.095714\n",
       "(5, 5, 2)    0.121865\n",
       "(5, 5, 3)    0.108444\n",
       "(5, 5, 4)    0.085324\n",
       "(5, 5, 5)    0.111402\n",
       "dtype: float64"
      ]
     },
     "execution_count": 37,
     "metadata": {},
     "output_type": "execute_result"
    }
   ],
   "source": [
    "mean_std_df['Мат. ожидание'] * 0.15 / mean_std_df['Станд. откл.']"
   ]
  },
  {
   "cell_type": "markdown",
   "id": "5ca41639",
   "metadata": {},
   "source": [
    "Находим по таблице t-критерия Стьюдента из статьи ближайшее меньшее относительно расчетного табличное значение. Для доверительной вероятности 0.95 для всех наборов параметров оно превышает 100 (ближайшее меньшее даже не указано в таблице), соответственно, т.к. ранее проведено 40 прогонок для каждого набора, необходимо дополнительно произвести минимум 60 прогонок для каждого."
   ]
  },
  {
   "cell_type": "code",
   "execution_count": 6,
   "id": "371f4642",
   "metadata": {
    "ExecuteTime": {
     "end_time": "2022-04-21T08:57:56.159386Z",
     "start_time": "2022-04-21T08:57:56.142385Z"
    }
   },
   "outputs": [],
   "source": [
    "def portrayCell(cell):\n",
    "    \"\"\"\n",
    "    This function is registered with the visualization server to be called\n",
    "    each tick to indicate how to draw the cell in its current state.\n",
    "    :param cell:  the cell in the simulation\n",
    "    :return: the portrayal dictionary.\n",
    "    \"\"\"\n",
    "    assert cell is not None\n",
    "    return {\n",
    "        \"Shape\": \"rect\",\n",
    "        \"w\": 1,\n",
    "        \"h\": 1,\n",
    "        \"Filled\": \"true\",\n",
    "        \"Layer\": 0,\n",
    "        \"x\": cell.x,\n",
    "        \"y\": cell.y,\n",
    "        \"Color\": \"black\" if cell.isAlive else \"white\",\n",
    "    }"
   ]
  },
  {
   "cell_type": "code",
   "execution_count": 7,
   "id": "e126351e",
   "metadata": {
    "ExecuteTime": {
     "end_time": "2022-04-21T08:57:57.180511Z",
     "start_time": "2022-04-21T08:57:57.139526Z"
    }
   },
   "outputs": [],
   "source": [
    "# Make a world that is 50x50, on a 250x250 display.\n",
    "canvas_element = CanvasGrid(portrayCell, 50, 50, 250, 250)\n",
    "\n",
    "server = ModularServer(\n",
    "    ConwaysGameOfLife, [canvas_element], \"Game of Life\", {\"height\": 50, \"width\": 50}\n",
    ")"
   ]
  },
  {
   "cell_type": "code",
   "execution_count": null,
   "id": "1eb892fe",
   "metadata": {
    "ExecuteTime": {
     "end_time": "2022-04-21T09:05:12.967589Z",
     "start_time": "2022-04-21T08:58:03.312602Z"
    }
   },
   "outputs": [],
   "source": [
    "server.port = 8523\n",
    "server.launch()"
   ]
  },
  {
   "cell_type": "code",
   "execution_count": null,
   "id": "1566166a",
   "metadata": {},
   "outputs": [],
   "source": []
  },
  {
   "cell_type": "code",
   "execution_count": null,
   "id": "d54a5947",
   "metadata": {},
   "outputs": [],
   "source": []
  },
  {
   "cell_type": "code",
   "execution_count": null,
   "id": "6d850de8",
   "metadata": {},
   "outputs": [],
   "source": []
  }
 ],
 "metadata": {
  "kernelspec": {
   "display_name": "Python 3",
   "language": "python",
   "name": "python3"
  },
  "language_info": {
   "codemirror_mode": {
    "name": "ipython",
    "version": 3
   },
   "file_extension": ".py",
   "mimetype": "text/x-python",
   "name": "python",
   "nbconvert_exporter": "python",
   "pygments_lexer": "ipython3",
   "version": "3.8.8"
  }
 },
 "nbformat": 4,
 "nbformat_minor": 5
}
