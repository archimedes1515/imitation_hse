{
 "cells": [
  {
   "cell_type": "markdown",
   "id": "caccb21c",
   "metadata": {},
   "source": [
    "## Жерноклеев Дмитрий \n",
    "### Домашнее задание 2. "
   ]
  },
  {
   "cell_type": "markdown",
   "id": "b3f15a14",
   "metadata": {},
   "source": [
    "### Импортируем модули и создадим экземпляр класса Model, с которым будем работать"
   ]
  },
  {
   "cell_type": "code",
   "execution_count": 1,
   "id": "832139a0",
   "metadata": {
    "ExecuteTime": {
     "end_time": "2022-03-15T08:14:31.554082Z",
     "start_time": "2022-03-15T08:14:21.560110Z"
    }
   },
   "outputs": [],
   "source": [
    "# !pip install --user BPTK_Py==1.4.2 # более поздние не работают \n",
    "from BPTK_Py import Model\n",
    "from BPTK_Py import sd_functions as sd\n",
    "\n",
    "import numpy as np\n",
    "import pandas as pd\n",
    "import matplotlib.pyplot as plt\n",
    "%matplotlib inline\n",
    "\n",
    "model = Model(starttime=1.0, stoptime=100.0, dt=1.0, name='ModBass')"
   ]
  },
  {
   "cell_type": "markdown",
   "id": "fefd8556",
   "metadata": {},
   "source": [
    "### Создадим контейнеры (потенциальных клиентов, клиентов нашей фирмы и клиентов конкурентов)"
   ]
  },
  {
   "cell_type": "code",
   "execution_count": 2,
   "id": "1bf21d78",
   "metadata": {
    "ExecuteTime": {
     "end_time": "2022-03-15T08:14:31.586097Z",
     "start_time": "2022-03-15T08:14:31.562143Z"
    }
   },
   "outputs": [],
   "source": [
    "# stocks\n",
    "PotentialClients = model.stock(\"PotentialClients\")\n",
    "Clients = model.stock(\"Clients\")\n",
    "Compet = model.stock(\"Compet\")"
   ]
  },
  {
   "cell_type": "markdown",
   "id": "7b308347",
   "metadata": {},
   "source": [
    "### Введем константы, необходимые для реализации нашей модели. Значения основных параметров взял те же, что были записаны на доске во время занятия."
   ]
  },
  {
   "cell_type": "code",
   "execution_count": 3,
   "id": "926e1964",
   "metadata": {
    "ExecuteTime": {
     "end_time": "2022-03-15T08:14:31.632474Z",
     "start_time": "2022-03-15T08:14:31.598102Z"
    }
   },
   "outputs": [],
   "source": [
    "rate_var = 100.0\n",
    "eff_wom_var = 0.015\n",
    "eff_market1_var = 0.011\n",
    "eff_market2_var = 0.011\n",
    "k1_var = (eff_market1_var + eff_market2_var) / (eff_market1_var + eff_market2_var + 2 * eff_wom_var)\n",
    "k2_var = (eff_market1_var + eff_market2_var) / (eff_market1_var + eff_market2_var + 2 * eff_wom_var)\n",
    "tr1_var = 2 * eff_wom_var / (eff_market1_var + eff_market2_var + 2 * eff_wom_var)\n",
    "tr2_var = 2 * eff_wom_var / (eff_market1_var + eff_market2_var + 2 * eff_wom_var)\n",
    "TP_var = 1e5\n",
    "p_11_var = 0.7\n",
    "p_13_var = 0.1\n",
    "p_21_var = 0.1\n",
    "p_23_var = 0.2\n",
    "eps = 1e-3"
   ]
  },
  {
   "cell_type": "code",
   "execution_count": 4,
   "id": "56c76e4d",
   "metadata": {
    "ExecuteTime": {
     "end_time": "2022-03-15T08:14:31.757347Z",
     "start_time": "2022-03-15T08:14:31.644362Z"
    }
   },
   "outputs": [],
   "source": [
    "#constants\n",
    "TP = model.constant(\"TP\") \n",
    "eff_market1 = model.constant(\"eff_market1\")\n",
    "eff_market2 = model.constant(\"eff_market2\")\n",
    "eff_wom = model.constant(\"eff_wom\")\n",
    "rate = model.constant(\"rate\")\n",
    "k1 = model.constant(\"k1\")\n",
    "k2 = model.constant(\"k2\")\n",
    "tr1 = model.constant(\"tr1\")\n",
    "tr2 = model.constant(\"tr2\")\n",
    "p_11 = model.constant(\"p_11\")\n",
    "p_13 = model.constant(\"p_13\")\n",
    "p_21 = model.constant(\"p_21\")\n",
    "p_23 = model.constant(\"p_23\")"
   ]
  },
  {
   "cell_type": "markdown",
   "id": "29d5b9f1",
   "metadata": {},
   "source": [
    "### Создадим также \"потоки\" и зададим уравнения, связывающие элементы нашей модели"
   ]
  },
  {
   "cell_type": "code",
   "execution_count": 5,
   "id": "c79024f7",
   "metadata": {
    "ExecuteTime": {
     "end_time": "2022-03-15T08:14:31.788342Z",
     "start_time": "2022-03-15T08:14:31.763346Z"
    }
   },
   "outputs": [],
   "source": [
    "# flows\n",
    "potentialclients_to_clients = model.flow(\"potentialclients_to_clients\") # 3\n",
    "potentialclients_to_compet = model.flow(\"potentialclients_to_compet\") # 4\n",
    "\n",
    "clients_to_potentialclients = model.flow(\"clients_to_potentialclients\") # 5\n",
    "compet_to_potentialclients = model.flow(\"compet_to_potentialclients\") # 6\n",
    "\n",
    "clients_to_compet = model.flow(\"clients_to_compet\") # 1\n",
    "compet_to_clients = model.flow(\"compet_to_clients\") # 2\n",
    "# цифры от 1 до 6 - номера потоков как на схеме, которая была нарисована в классе\n",
    "# уравнения ниже также воспроизведены на основании материалов занятия\n",
    "\n",
    "# equations\n",
    "potentialclients_to_clients.equation = eff_market1 * PotentialClients + (eff_wom * rate * PotentialClients * Clients * p_11) / (Compet + PotentialClients + Clients) # TP\n",
    "potentialclients_to_compet.equation = eff_market2 * PotentialClients + (eff_wom * rate * PotentialClients * Compet * p_21) / (Compet + PotentialClients + Clients) # TP\n",
    "\n",
    "clients_to_potentialclients.equation = Clients * p_13 * k1\n",
    "compet_to_potentialclients.equation = Compet * p_23 * k2\n",
    "\n",
    "clients_to_compet.equation = (tr1 * eff_wom * rate * Compet * p_21 * Clients * (1 - p_11 - k1 * p_13)) / (Compet + PotentialClients + Clients) # TP\n",
    "compet_to_clients.equation = (tr2 * eff_wom * rate * Clients * p_11 * Compet * (1 - p_21 - k2 * p_23)) / (Compet + PotentialClients + Clients) #TP\n",
    "\n",
    "Clients.equation = potentialclients_to_clients + compet_to_clients - clients_to_potentialclients - clients_to_compet\n",
    "PotentialClients.equation = clients_to_potentialclients + compet_to_potentialclients - potentialclients_to_clients - potentialclients_to_compet\n",
    "Compet.equation = potentialclients_to_compet + clients_to_compet - compet_to_clients - compet_to_potentialclients"
   ]
  },
  {
   "cell_type": "markdown",
   "id": "f17157a9",
   "metadata": {},
   "source": [
    "### Проинициализируем константы и начальные состояния контейнеров"
   ]
  },
  {
   "cell_type": "code",
   "execution_count": 6,
   "id": "c04fff85",
   "metadata": {
    "ExecuteTime": {
     "end_time": "2022-03-15T08:14:35.334186Z",
     "start_time": "2022-03-15T08:14:35.317239Z"
    }
   },
   "outputs": [],
   "source": [
    "#initialize model\n",
    "Clients.initial_value = 0.0\n",
    "Compet.initial_value = 0.0\n",
    "PotentialClients.initial_value = TP\n",
    "TP.equation = TP_var\n",
    "eff_market1.equation = eff_market1_var\n",
    "eff_market2.equation = eff_market2_var\n",
    "eff_wom.equation = eff_wom_var\n",
    "rate.equation = rate_var\n",
    "k1.equation = k1_var # (eff_market1 + eff_market2) / (eff_market1 + eff_market2 + 2 * eff_wom)\n",
    "k2.equation = k2_var # (eff_market1 + eff_market2) / (eff_market1 + eff_market2 + 2 * eff_wom)\n",
    "tr1.equation = tr1_var # 2 * eff_wom / (eff_market1 + eff_market2 + 2 * eff_wom)\n",
    "tr2.equation = tr2_var # 2 * eff_wom / (eff_market1 + eff_market2 + 2 * eff_wom)\n",
    "p_11.equation = p_11_var\n",
    "p_13.equation = p_13_var\n",
    "p_21.equation = p_21_var\n",
    "p_23.equation = p_23_var"
   ]
  },
  {
   "cell_type": "markdown",
   "id": "71c5bd8e",
   "metadata": {},
   "source": [
    "### Произведем запуск модели и построим графики, отображающие динамику системы"
   ]
  },
  {
   "cell_type": "code",
   "execution_count": 7,
   "id": "41d71e2a",
   "metadata": {
    "ExecuteTime": {
     "end_time": "2022-03-15T08:14:42.286627Z",
     "start_time": "2022-03-15T08:14:39.977450Z"
    }
   },
   "outputs": [
    {
     "data": {
      "image/png": "[encoded data removed]",
      "text/plain": [
       "<Figure size 1440x720 with 1 Axes>"
      ]
     },
     "metadata": {
      "needs_background": "light"
     },
     "output_type": "display_data"
    },
    {
     "data": {
      "image/png": "[encoded data removed]",
      "text/plain": [
       "<Figure size 1440x720 with 1 Axes>"
      ]
     },
     "metadata": {
      "needs_background": "light"
     },
     "output_type": "display_data"
    },
    {
     "data": {
      "image/png": "[encoded data removed]",
      "text/plain": [
       "<Figure size 1440x720 with 1 Axes>"
      ]
     },
     "metadata": {
      "needs_background": "light"
     },
     "output_type": "display_data"
    }
   ],
   "source": [
    "Clients.plot()\n",
    "Compet.plot()\n",
    "PotentialClients.plot()"
   ]
  },
  {
   "cell_type": "code",
   "execution_count": 8,
   "id": "34241365",
   "metadata": {
    "ExecuteTime": {
     "end_time": "2022-03-15T08:14:42.380640Z",
     "start_time": "2022-03-15T08:14:42.291592Z"
    }
   },
   "outputs": [
    {
     "data": {
      "text/html": [
       "<div>\n",
       "<style scoped>\n",
       "    .dataframe tbody tr th:only-of-type {\n",
       "        vertical-align: middle;\n",
       "    }\n",
       "\n",
       "    .dataframe tbody tr th {\n",
       "        vertical-align: top;\n",
       "    }\n",
       "\n",
       "    .dataframe thead th {\n",
       "        text-align: right;\n",
       "    }\n",
       "</style>\n",
       "<table border=\"1\" class=\"dataframe\">\n",
       "  <thead>\n",
       "    <tr style=\"text-align: right;\">\n",
       "      <th></th>\n",
       "      <th>Clients</th>\n",
       "      <th>Compet</th>\n",
       "      <th>PotentialClients</th>\n",
       "    </tr>\n",
       "  </thead>\n",
       "  <tbody>\n",
       "    <tr>\n",
       "      <th>1.0</th>\n",
       "      <td>0.000000</td>\n",
       "      <td>0.000000</td>\n",
       "      <td>100000.000000</td>\n",
       "    </tr>\n",
       "    <tr>\n",
       "      <th>2.0</th>\n",
       "      <td>1100.000000</td>\n",
       "      <td>1100.000000</td>\n",
       "      <td>97800.000000</td>\n",
       "    </tr>\n",
       "    <tr>\n",
       "      <th>3.0</th>\n",
       "      <td>3264.558317</td>\n",
       "      <td>2238.386298</td>\n",
       "      <td>94497.055385</td>\n",
       "    </tr>\n",
       "    <tr>\n",
       "      <th>4.0</th>\n",
       "      <td>7439.531010</td>\n",
       "      <td>3371.269404</td>\n",
       "      <td>89189.199586</td>\n",
       "    </tr>\n",
       "    <tr>\n",
       "      <th>5.0</th>\n",
       "      <td>15191.172975</td>\n",
       "      <td>4399.821482</td>\n",
       "      <td>80409.005543</td>\n",
       "    </tr>\n",
       "    <tr>\n",
       "      <th>...</th>\n",
       "      <td>...</td>\n",
       "      <td>...</td>\n",
       "      <td>...</td>\n",
       "    </tr>\n",
       "    <tr>\n",
       "      <th>96.0</th>\n",
       "      <td>95968.769834</td>\n",
       "      <td>81.767395</td>\n",
       "      <td>3949.462771</td>\n",
       "    </tr>\n",
       "    <tr>\n",
       "      <th>97.0</th>\n",
       "      <td>95968.769834</td>\n",
       "      <td>81.767395</td>\n",
       "      <td>3949.462771</td>\n",
       "    </tr>\n",
       "    <tr>\n",
       "      <th>98.0</th>\n",
       "      <td>95968.769834</td>\n",
       "      <td>81.767395</td>\n",
       "      <td>3949.462771</td>\n",
       "    </tr>\n",
       "    <tr>\n",
       "      <th>99.0</th>\n",
       "      <td>95968.769834</td>\n",
       "      <td>81.767395</td>\n",
       "      <td>3949.462771</td>\n",
       "    </tr>\n",
       "    <tr>\n",
       "      <th>100.0</th>\n",
       "      <td>95968.769834</td>\n",
       "      <td>81.767395</td>\n",
       "      <td>3949.462771</td>\n",
       "    </tr>\n",
       "  </tbody>\n",
       "</table>\n",
       "<p>100 rows × 3 columns</p>\n",
       "</div>"
      ],
      "text/plain": [
       "            Clients       Compet  PotentialClients\n",
       "1.0        0.000000     0.000000     100000.000000\n",
       "2.0     1100.000000  1100.000000      97800.000000\n",
       "3.0     3264.558317  2238.386298      94497.055385\n",
       "4.0     7439.531010  3371.269404      89189.199586\n",
       "5.0    15191.172975  4399.821482      80409.005543\n",
       "...             ...          ...               ...\n",
       "96.0   95968.769834    81.767395       3949.462771\n",
       "97.0   95968.769834    81.767395       3949.462771\n",
       "98.0   95968.769834    81.767395       3949.462771\n",
       "99.0   95968.769834    81.767395       3949.462771\n",
       "100.0  95968.769834    81.767395       3949.462771\n",
       "\n",
       "[100 rows x 3 columns]"
      ]
     },
     "execution_count": 8,
     "metadata": {},
     "output_type": "execute_result"
    }
   ],
   "source": [
    "df = Clients.plot(return_df=True).copy()\n",
    "df['Compet'] = Compet.plot(return_df=True).copy()\n",
    "df['PotentialClients'] = PotentialClients.plot(return_df=True).copy()\n",
    "df"
   ]
  },
  {
   "cell_type": "code",
   "execution_count": 9,
   "id": "06f2d93d",
   "metadata": {
    "ExecuteTime": {
     "end_time": "2022-03-15T08:14:45.424339Z",
     "start_time": "2022-03-15T08:14:45.372177Z"
    }
   },
   "outputs": [
    {
     "data": {
      "text/html": [
       "<div>\n",
       "<style scoped>\n",
       "    .dataframe tbody tr th:only-of-type {\n",
       "        vertical-align: middle;\n",
       "    }\n",
       "\n",
       "    .dataframe tbody tr th {\n",
       "        vertical-align: top;\n",
       "    }\n",
       "\n",
       "    .dataframe thead th {\n",
       "        text-align: right;\n",
       "    }\n",
       "</style>\n",
       "<table border=\"1\" class=\"dataframe\">\n",
       "  <thead>\n",
       "    <tr style=\"text-align: right;\">\n",
       "      <th></th>\n",
       "      <th>Clients</th>\n",
       "      <th>Compet</th>\n",
       "      <th>PotentialClients</th>\n",
       "      <th>Clients_diff</th>\n",
       "      <th>Compet_diff</th>\n",
       "      <th>PotentialClients_diff</th>\n",
       "    </tr>\n",
       "  </thead>\n",
       "  <tbody>\n",
       "    <tr>\n",
       "      <th>1.0</th>\n",
       "      <td>0.000000</td>\n",
       "      <td>0.000000</td>\n",
       "      <td>100000.000000</td>\n",
       "      <td>NaN</td>\n",
       "      <td>NaN</td>\n",
       "      <td>NaN</td>\n",
       "    </tr>\n",
       "    <tr>\n",
       "      <th>2.0</th>\n",
       "      <td>1100.000000</td>\n",
       "      <td>1100.000000</td>\n",
       "      <td>97800.000000</td>\n",
       "      <td>1100.000000</td>\n",
       "      <td>1100.000000</td>\n",
       "      <td>-2200.000000</td>\n",
       "    </tr>\n",
       "    <tr>\n",
       "      <th>3.0</th>\n",
       "      <td>3264.558317</td>\n",
       "      <td>2238.386298</td>\n",
       "      <td>94497.055385</td>\n",
       "      <td>2164.558317</td>\n",
       "      <td>1138.386298</td>\n",
       "      <td>-3302.944615</td>\n",
       "    </tr>\n",
       "    <tr>\n",
       "      <th>4.0</th>\n",
       "      <td>7439.531010</td>\n",
       "      <td>3371.269404</td>\n",
       "      <td>89189.199586</td>\n",
       "      <td>4174.972693</td>\n",
       "      <td>1132.883105</td>\n",
       "      <td>-5307.855798</td>\n",
       "    </tr>\n",
       "    <tr>\n",
       "      <th>5.0</th>\n",
       "      <td>15191.172975</td>\n",
       "      <td>4399.821482</td>\n",
       "      <td>80409.005543</td>\n",
       "      <td>7751.641965</td>\n",
       "      <td>1028.552078</td>\n",
       "      <td>-8780.194043</td>\n",
       "    </tr>\n",
       "    <tr>\n",
       "      <th>...</th>\n",
       "      <td>...</td>\n",
       "      <td>...</td>\n",
       "      <td>...</td>\n",
       "      <td>...</td>\n",
       "      <td>...</td>\n",
       "      <td>...</td>\n",
       "    </tr>\n",
       "    <tr>\n",
       "      <th>96.0</th>\n",
       "      <td>95968.769834</td>\n",
       "      <td>81.767395</td>\n",
       "      <td>3949.462771</td>\n",
       "      <td>0.000000</td>\n",
       "      <td>0.000000</td>\n",
       "      <td>0.000000</td>\n",
       "    </tr>\n",
       "    <tr>\n",
       "      <th>97.0</th>\n",
       "      <td>95968.769834</td>\n",
       "      <td>81.767395</td>\n",
       "      <td>3949.462771</td>\n",
       "      <td>0.000000</td>\n",
       "      <td>0.000000</td>\n",
       "      <td>0.000000</td>\n",
       "    </tr>\n",
       "    <tr>\n",
       "      <th>98.0</th>\n",
       "      <td>95968.769834</td>\n",
       "      <td>81.767395</td>\n",
       "      <td>3949.462771</td>\n",
       "      <td>0.000000</td>\n",
       "      <td>0.000000</td>\n",
       "      <td>0.000000</td>\n",
       "    </tr>\n",
       "    <tr>\n",
       "      <th>99.0</th>\n",
       "      <td>95968.769834</td>\n",
       "      <td>81.767395</td>\n",
       "      <td>3949.462771</td>\n",
       "      <td>0.000000</td>\n",
       "      <td>0.000000</td>\n",
       "      <td>0.000000</td>\n",
       "    </tr>\n",
       "    <tr>\n",
       "      <th>100.0</th>\n",
       "      <td>95968.769834</td>\n",
       "      <td>81.767395</td>\n",
       "      <td>3949.462771</td>\n",
       "      <td>0.000000</td>\n",
       "      <td>0.000000</td>\n",
       "      <td>0.000000</td>\n",
       "    </tr>\n",
       "  </tbody>\n",
       "</table>\n",
       "<p>100 rows × 6 columns</p>\n",
       "</div>"
      ],
      "text/plain": [
       "            Clients       Compet  PotentialClients  Clients_diff  Compet_diff  \\\n",
       "1.0        0.000000     0.000000     100000.000000           NaN          NaN   \n",
       "2.0     1100.000000  1100.000000      97800.000000   1100.000000  1100.000000   \n",
       "3.0     3264.558317  2238.386298      94497.055385   2164.558317  1138.386298   \n",
       "4.0     7439.531010  3371.269404      89189.199586   4174.972693  1132.883105   \n",
       "5.0    15191.172975  4399.821482      80409.005543   7751.641965  1028.552078   \n",
       "...             ...          ...               ...           ...          ...   \n",
       "96.0   95968.769834    81.767395       3949.462771      0.000000     0.000000   \n",
       "97.0   95968.769834    81.767395       3949.462771      0.000000     0.000000   \n",
       "98.0   95968.769834    81.767395       3949.462771      0.000000     0.000000   \n",
       "99.0   95968.769834    81.767395       3949.462771      0.000000     0.000000   \n",
       "100.0  95968.769834    81.767395       3949.462771      0.000000     0.000000   \n",
       "\n",
       "       PotentialClients_diff  \n",
       "1.0                      NaN  \n",
       "2.0             -2200.000000  \n",
       "3.0             -3302.944615  \n",
       "4.0             -5307.855798  \n",
       "5.0             -8780.194043  \n",
       "...                      ...  \n",
       "96.0                0.000000  \n",
       "97.0                0.000000  \n",
       "98.0                0.000000  \n",
       "99.0                0.000000  \n",
       "100.0               0.000000  \n",
       "\n",
       "[100 rows x 6 columns]"
      ]
     },
     "execution_count": 9,
     "metadata": {},
     "output_type": "execute_result"
    }
   ],
   "source": [
    "df['Clients_diff'] = df['Clients'].diff(1)\n",
    "df['Compet_diff'] = df['Compet'].diff(1)\n",
    "df['PotentialClients_diff'] = df['PotentialClients'].diff(1)\n",
    "df"
   ]
  },
  {
   "cell_type": "code",
   "execution_count": 10,
   "id": "39fa7f1d",
   "metadata": {
    "ExecuteTime": {
     "end_time": "2022-03-15T08:14:48.856414Z",
     "start_time": "2022-03-15T08:14:48.829282Z"
    }
   },
   "outputs": [
    {
     "name": "stdout",
     "output_type": "stream",
     "text": [
      "[4.40000000e+03 6.60588923e+03 1.06157116e+04 1.75603881e+04\n",
      " 2.82210093e+04 4.04341545e+04 4.64067716e+04 3.31729784e+04\n",
      " 1.10675742e+04 2.22137111e+03 8.98940164e+02 4.30568164e+02\n",
      " 2.03811431e+02 9.62213967e+01 4.53631024e+01 2.13721707e+01\n",
      " 1.00660640e+01 4.74031511e+00 2.23215737e+00 1.05106194e+00\n",
      " 4.94908801e-01 2.33033800e-01 1.09726414e-01 5.16657527e-02\n",
      " 2.43273055e-02 1.14547366e-02 5.39356763e-03 2.53961052e-03\n",
      " 1.19579874e-03 5.63052715e-04 2.65118490e-04 1.24833457e-04\n",
      " 5.87789662e-05 2.76766091e-05 1.30317884e-05 6.13613362e-06\n",
      " 2.88925364e-06 1.36043045e-06 6.40573660e-07 3.01625903e-07\n",
      " 1.42023396e-07 6.68762681e-08 3.14871613e-08 1.48205288e-08\n",
      " 6.98408087e-09 3.28715544e-09 1.54480517e-09 7.28320515e-10\n",
      " 3.45877993e-10 1.68157044e-10 8.24940116e-11 3.09796633e-11\n",
      " 2.41016096e-11 3.89377419e-12 2.98427949e-12 7.67386155e-13\n",
      " 8.24229573e-13 1.08002496e-12 5.25801624e-13 4.83169060e-13\n",
      " 9.37916411e-13 4.54747351e-13 4.68958206e-13 9.23705556e-13\n",
      " 0.00000000e+00 0.00000000e+00 0.00000000e+00 0.00000000e+00\n",
      " 0.00000000e+00 0.00000000e+00 0.00000000e+00 0.00000000e+00\n",
      " 0.00000000e+00 0.00000000e+00 0.00000000e+00 0.00000000e+00\n",
      " 0.00000000e+00 0.00000000e+00 0.00000000e+00 0.00000000e+00\n",
      " 0.00000000e+00 0.00000000e+00 0.00000000e+00 0.00000000e+00\n",
      " 0.00000000e+00 0.00000000e+00 0.00000000e+00 0.00000000e+00\n",
      " 0.00000000e+00 0.00000000e+00 0.00000000e+00 0.00000000e+00\n",
      " 0.00000000e+00 0.00000000e+00 0.00000000e+00 0.00000000e+00\n",
      " 0.00000000e+00 0.00000000e+00 0.00000000e+00]\n"
     ]
    }
   ],
   "source": [
    "df['metrics'] = df['Clients_diff'].abs() + df['Compet_diff'].abs() + df['PotentialClients_diff'].abs()\n",
    "metric = df['metrics'].iloc[1:].values # слайс, чтобы выкинуть первый NaN\n",
    "# print(metric)\n",
    "metric = metric.tolist()"
   ]
  },
  {
   "cell_type": "code",
   "execution_count": 11,
   "id": "a7876087",
   "metadata": {
    "ExecuteTime": {
     "end_time": "2022-03-15T08:14:56.106514Z",
     "start_time": "2022-03-15T08:14:55.565086Z"
    }
   },
   "outputs": [
    {
     "data": {
      "image/png": "[encoded data removed]",
      "text/plain": [
       "<Figure size 1008x432 with 1 Axes>"
      ]
     },
     "metadata": {
      "image/png": {
       "height": 388,
       "width": 848
      },
      "needs_background": "light"
     },
     "output_type": "display_data"
    }
   ],
   "source": [
    "%config InlineBackend.figure_format = 'retina'\n",
    "# df['metrics'].iloc[1:].plot(figsize=(14, 6), title='График метрики сходимости',\n",
    "#                             xlabel='Month', ylabel='Value')\n",
    "\n",
    "plt.figure(figsize=(14, 6))\n",
    "plt.plot(range(len(metric)), metric, color='r')\n",
    "plt.xlabel('Month', fontsize=11)\n",
    "plt.ylabel('Value', fontsize=11)\n",
    "plt.title('График метрики сходимости', fontsize=14)\n",
    "plt.show()"
   ]
  },
  {
   "cell_type": "markdown",
   "id": "7b6eff9b",
   "metadata": {},
   "source": [
    "### Проверим факт сходимости: мы просуммировали модули первых разностей наших рядов, будем говорить о том, что модель сошлась, если последние 5% значений данной суммы модулей меньше, чем заданное эпсилон "
   ]
  },
  {
   "cell_type": "code",
   "execution_count": 12,
   "id": "547a4210",
   "metadata": {
    "ExecuteTime": {
     "end_time": "2022-03-15T08:15:00.116563Z",
     "start_time": "2022-03-15T08:15:00.103510Z"
    }
   },
   "outputs": [
    {
     "name": "stdout",
     "output_type": "stream",
     "text": [
      "Установлена сходимость модели\n"
     ]
    }
   ],
   "source": [
    "if np.all(df['metrics'].iloc[1:].apply(lambda x: x < eps).iloc[-int(df.shape[0] * 0.05):].values):\n",
    "    print('Установлена сходимость модели')\n",
    "else:\n",
    "    print('В данном случае сходимость не наблюдается')\n",
    "    print('Попробуйте увеличить параметр stoptime при инициализации модели в самом начале, возможно, она не успела сойтись!')"
   ]
  },
  {
   "cell_type": "markdown",
   "id": "7f52432e",
   "metadata": {},
   "source": [
    "#### Ремарка: наверное, можно было бы смотреть только на модули одного ряда, но интуитивно кажется, что если модель сошлась (в каком-то смысле) для одного ряда, то она необязательно сошлась для двух других, а просуммировав все три, мы как бы наложили более строгое требование. Ещё, вероятно, возможно проверять сходимость, смотря просто на последнее значение этой суммы модулей, но, как мне кажется, гипотетически возможно, что флуктуации остановились прям перед последним значением, я же стараюсь смотреть на хвост ряда и таким образом, опять же, пытаюсь задать более строгий критерий сходимости."
   ]
  },
  {
   "cell_type": "markdown",
   "id": "128e7010",
   "metadata": {},
   "source": [
    "### Теперь оформим наш код в виде функции, куда мы будем передавать свои доли довольных и недовольных (p11, p13, p21, p23), и с помощью которой сможем нагенерить необходимую выборку"
   ]
  },
  {
   "cell_type": "code",
   "execution_count": 13,
   "id": "2238f6bb",
   "metadata": {
    "ExecuteTime": {
     "end_time": "2022-03-15T08:15:02.844153Z",
     "start_time": "2022-03-15T08:15:02.706831Z"
    }
   },
   "outputs": [],
   "source": [
    "def cyclic_run(stoptime=3000.0, p11=None, p13=None, p21=None, p23=None, rate_var=rate_var, eff_wom_var=eff_wom_var, \n",
    "               eff_market1_var=eff_market1_var, eff_market2_var=eff_market2_var, k1_var=k1_var, k2_var=k2_var,\n",
    "              tr1_var=tr1_var, TP_var=TP_var, eps=eps):\n",
    "    # если какая-то из p не была передана, то генерим рандомные \n",
    "    # с учетом того, что для каждой фирмы они должны суммироваться в единицу\n",
    "    if any([p11 == None, p13 == None, p21 == None, p23 == None]):\n",
    "        p11 = np.random.uniform()\n",
    "        p13 = np.random.uniform(0, 1 - p11)\n",
    "        p21 = np.random.uniform()\n",
    "        p23 = np.random.uniform(0, 1 - p21)\n",
    "        \n",
    "    model_run = Model(starttime=1.0, stoptime=stoptime, dt=1.0, name='ModBass_Run')\n",
    "    # stocks\n",
    "    PotentialClients = model_run.stock(\"PotentialClients\")\n",
    "    Clients = model_run.stock(\"Clients\")\n",
    "    Compet = model_run.stock(\"Compet\")\n",
    "    \n",
    "    TP = model_run.constant(\"TP\") \n",
    "    eff_market1 = model_run.constant(\"eff_market1\")\n",
    "    eff_market2 = model_run.constant(\"eff_market2\")\n",
    "    eff_wom = model_run.constant(\"eff_wom\")\n",
    "    rate = model_run.constant(\"rate\")\n",
    "    k1 = model_run.constant(\"k1\")\n",
    "    k2 = model_run.constant(\"k2\")\n",
    "    tr1 = model_run.constant(\"tr1\")\n",
    "    tr2 = model_run.constant(\"tr2\")\n",
    "    p_11 = model_run.constant(\"p_11\")\n",
    "    p_13 = model_run.constant(\"p_13\")\n",
    "    p_21 = model_run.constant(\"p_21\")\n",
    "    p_23 = model_run.constant(\"p_23\")\n",
    "    \n",
    "    # flows\n",
    "    potentialclients_to_clients = model_run.flow(\"potentialclients_to_clients\") # 3\n",
    "    potentialclients_to_compet = model_run.flow(\"potentialclients_to_compet\") # 4\n",
    "\n",
    "    clients_to_potentialclients = model_run.flow(\"clients_to_potentialclients\") # 5\n",
    "    compet_to_potentialclients = model_run.flow(\"compet_to_potentialclients\") # 6\n",
    "\n",
    "    clients_to_compet = model_run.flow(\"clients_to_compet\") # 1\n",
    "    compet_to_clients = model_run.flow(\"compet_to_clients\") # 2\n",
    "\n",
    "    # equations\n",
    "    potentialclients_to_clients.equation = eff_market1 * PotentialClients + (eff_wom * rate * PotentialClients * Clients * p_11) / (Compet + PotentialClients + Clients) # TP\n",
    "    potentialclients_to_compet.equation = eff_market2 * PotentialClients + (eff_wom * rate * PotentialClients * Compet * p_21) / (Compet + PotentialClients + Clients) # TP\n",
    "\n",
    "    clients_to_potentialclients.equation = Clients * p_13 * k1\n",
    "    compet_to_potentialclients.equation = Compet * p_23 * k2\n",
    "\n",
    "    clients_to_compet.equation = (tr1 * eff_wom * rate * Compet * p_21 * Clients * (1 - p_11 - k1 * p_13)) / (Compet + PotentialClients + Clients) # TP\n",
    "    compet_to_clients.equation = (tr2 * eff_wom * rate * Clients * p_11 * Compet * (1 - p_21 - k2 * p_23)) / (Compet + PotentialClients + Clients) #TP\n",
    "\n",
    "    Clients.equation = potentialclients_to_clients + compet_to_clients - clients_to_potentialclients - clients_to_compet\n",
    "    PotentialClients.equation = clients_to_potentialclients + compet_to_potentialclients - potentialclients_to_clients - potentialclients_to_compet\n",
    "    Compet.equation = potentialclients_to_compet + clients_to_compet - compet_to_clients - compet_to_potentialclients\n",
    "    \n",
    "    #initialize model\n",
    "    Clients.initial_value = 0.0\n",
    "    Compet.initial_value = 0.0\n",
    "    PotentialClients.initial_value = TP\n",
    "    TP.equation = TP_var\n",
    "    eff_market1.equation = eff_market1_var\n",
    "    eff_market2.equation = eff_market2_var\n",
    "    eff_wom.equation = eff_wom_var\n",
    "    rate.equation = rate_var\n",
    "    k1.equation = k1_var \n",
    "    k2.equation = k2_var \n",
    "    tr1.equation = tr1_var \n",
    "    tr2.equation = tr2_var \n",
    "    p_11.equation = p11\n",
    "    p_13.equation = p13\n",
    "    p_21.equation = p21\n",
    "    p_23.equation = p23\n",
    "\n",
    "    df = Clients.plot(return_df=True).copy()\n",
    "    df['Compet'] = Compet.plot(return_df=True).copy()\n",
    "    df['PotentialClients'] = PotentialClients.plot(return_df=True).copy()\n",
    "    df['Clients_diff'] = df['Clients'].diff(1)\n",
    "    df['Compet_diff'] = df['Compet'].diff(1)\n",
    "    df['PotentialClients_diff'] = df['PotentialClients'].diff(1)\n",
    "    df['metrics'] = df['Clients_diff'].abs() + df['Compet_diff'].abs() + df['PotentialClients_diff'].abs()\n",
    "    metric = df['metrics'].iloc[1:].values .tolist()\n",
    "\n",
    "    if np.all(df['metrics'].iloc[1:].apply(lambda x: x < eps).iloc[-int(df.shape[0] * 0.05):].values):\n",
    "        return p11, p13, p21, p23, Clients.plot(return_df=True).values[-1][0] / TP_var, Compet.plot(return_df=True).values[-1][0] / TP_var #, PotentialClients.plot(return_df=True).values[-1][0] / TP_var \n",
    "    else:\n",
    "        print('Модель не сошлась')"
   ]
  },
  {
   "cell_type": "code",
   "execution_count": 14,
   "id": "f05387da",
   "metadata": {
    "ExecuteTime": {
     "end_time": "2022-03-15T08:15:05.212035Z",
     "start_time": "2022-03-15T08:15:05.130199Z"
    }
   },
   "outputs": [
    {
     "name": "stdout",
     "output_type": "stream",
     "text": [
      "Модель не сошлась\n"
     ]
    }
   ],
   "source": [
    "cyclic_run(stoptime=100.0, p11=0.6, p13=0.05, p21=0.6, p23=0.03)"
   ]
  },
  {
   "cell_type": "markdown",
   "id": "bfc5a3e3",
   "metadata": {},
   "source": [
    "### Данную прогонку модели я специально проделал с такими параметрами, чтобы она не сошлась. Как мне кажется, этот прогон должен проиллюстрировать тот факт, что сходимость не всегда происходит за одно и то же число шагов (для первой модели (и соответственно, набора долей p) 100 шагов хватило, а в данном случае - нет). Зато хватит 10000:"
   ]
  },
  {
   "cell_type": "code",
   "execution_count": 15,
   "id": "dc084228",
   "metadata": {
    "ExecuteTime": {
     "end_time": "2022-03-15T08:15:33.117897Z",
     "start_time": "2022-03-15T08:15:31.235827Z"
    }
   },
   "outputs": [
    {
     "data": {
      "text/plain": [
       "(0.6, 0.05, 0.6, 0.03, 0.03611996406657264, 0.9497825591316909)"
      ]
     },
     "execution_count": 15,
     "metadata": {},
     "output_type": "execute_result"
    }
   ],
   "source": [
    "cyclic_run(stoptime=10000.0, p11=0.6, p13=0.05, p21=0.6, p23=0.03)"
   ]
  },
  {
   "cell_type": "markdown",
   "id": "bb92c0f3",
   "metadata": {},
   "source": [
    "### Проверим на всякий случай, что функция работает корректно для какого-нибудь другого набора:"
   ]
  },
  {
   "cell_type": "code",
   "execution_count": 16,
   "id": "387542de",
   "metadata": {
    "ExecuteTime": {
     "end_time": "2022-03-15T08:15:38.786554Z",
     "start_time": "2022-03-15T08:15:37.163590Z"
    }
   },
   "outputs": [
    {
     "data": {
      "text/plain": [
       "(0.54215,\n",
       " 0.26465,\n",
       " 0.634509,\n",
       " 0.183214,\n",
       " 0.009068893489094215,\n",
       " 0.9110249990103864)"
      ]
     },
     "execution_count": 16,
     "metadata": {},
     "output_type": "execute_result"
    }
   ],
   "source": [
    "cyclic_run(stoptime=10000.0, p11=0.54215, p13=0.26465, p21=0.634509, p23=0.183214)"
   ]
  },
  {
   "cell_type": "markdown",
   "id": "51b27f24",
   "metadata": {},
   "source": [
    "### И для рандомных p"
   ]
  },
  {
   "cell_type": "code",
   "execution_count": 21,
   "id": "d8b5c2f4",
   "metadata": {
    "ExecuteTime": {
     "end_time": "2022-03-14T17:53:35.160958Z",
     "start_time": "2022-03-14T17:53:33.757650Z"
    }
   },
   "outputs": [
    {
     "data": {
      "text/plain": [
       "(0.1468008087247874,\n",
       " 0.028499012261265638,\n",
       " 0.5649381780739157,\n",
       " 0.4063761294462579,\n",
       " 0.008003424720247537,\n",
       " 0.7958759262646586)"
      ]
     },
     "execution_count": 21,
     "metadata": {},
     "output_type": "execute_result"
    }
   ],
   "source": [
    "cyclic_run(stoptime=10000.0)"
   ]
  },
  {
   "cell_type": "markdown",
   "id": "f0c5e2ef",
   "metadata": {},
   "source": [
    "#### /В случае сходимости, функция возвращает p11, p13, p21, p23, долю нашей фирмы и долю конкурентов (как я понял на занятии, третью долю нам получать не обязательно, т.к. она однозначно восстанавливается по двум другим)/"
   ]
  },
  {
   "cell_type": "markdown",
   "id": "bb1a86e1",
   "metadata": {
    "ExecuteTime": {
     "end_time": "2022-03-14T17:45:01.487586Z",
     "start_time": "2022-03-14T17:45:00.946623Z"
    }
   },
   "source": [
    "### Вроде, все ок (выполнил доп. проверку отдельно). Перейдем к генерации требуемой выборки"
   ]
  },
  {
   "cell_type": "code",
   "execution_count": 17,
   "id": "8c03d653",
   "metadata": {
    "ExecuteTime": {
     "end_time": "2022-03-15T08:15:49.573845Z",
     "start_time": "2022-03-15T08:15:49.538721Z"
    }
   },
   "outputs": [],
   "source": [
    "train_df = pd.DataFrame(columns=['p11', 'p13', 'p21', 'p23', 'Clients_ratio', 'Compet_ratio'])\n",
    "train_df_lst = []"
   ]
  },
  {
   "cell_type": "code",
   "execution_count": 18,
   "id": "e9609430",
   "metadata": {
    "ExecuteTime": {
     "end_time": "2022-03-15T08:35:57.662460Z",
     "start_time": "2022-03-15T08:17:10.679559Z"
    }
   },
   "outputs": [
    {
     "name": "stdout",
     "output_type": "stream",
     "text": [
      "Модель не сошлась\n",
      "Модель не сошлась\n",
      "Модель не сошлась\n",
      "Модель не сошлась\n",
      "Модель не сошлась\n",
      "Модель не сошлась\n",
      "Модель не сошлась\n",
      "Модель не сошлась\n",
      "Модель не сошлась\n",
      "Модель не сошлась\n",
      "Модель не сошлась\n",
      "Модель не сошлась\n",
      "Модель не сошлась\n",
      "Модель не сошлась\n",
      "Модель не сошлась\n",
      "Модель не сошлась\n",
      "Модель не сошлась\n",
      "Модель не сошлась\n",
      "Модель не сошлась\n"
     ]
    }
   ],
   "source": [
    "for i in range(2500):\n",
    "    try:\n",
    "        p11, p13, p21, p23, Clients_ratio, Compet_ratio = cyclic_run()    \n",
    "        d = {'p11' : p11, 'p13' : p13, 'p21' : p21, 'p23' : p23, \n",
    "            'Clients_ratio' : Clients_ratio, 'Compet_ratio' : Compet_ratio}\n",
    "        train_df_lst.append(d) # train_df = train_df.append(d, ignore_index=True)\n",
    "    except:\n",
    "        continue"
   ]
  },
  {
   "cell_type": "code",
   "execution_count": 19,
   "id": "cce9d543",
   "metadata": {
    "ExecuteTime": {
     "end_time": "2022-03-15T08:35:57.756090Z",
     "start_time": "2022-03-15T08:35:57.667909Z"
    }
   },
   "outputs": [
    {
     "data": {
      "text/html": [
       "<div>\n",
       "<style scoped>\n",
       "    .dataframe tbody tr th:only-of-type {\n",
       "        vertical-align: middle;\n",
       "    }\n",
       "\n",
       "    .dataframe tbody tr th {\n",
       "        vertical-align: top;\n",
       "    }\n",
       "\n",
       "    .dataframe thead th {\n",
       "        text-align: right;\n",
       "    }\n",
       "</style>\n",
       "<table border=\"1\" class=\"dataframe\">\n",
       "  <thead>\n",
       "    <tr style=\"text-align: right;\">\n",
       "      <th></th>\n",
       "      <th>p11</th>\n",
       "      <th>p13</th>\n",
       "      <th>p21</th>\n",
       "      <th>p23</th>\n",
       "      <th>Clients_ratio</th>\n",
       "      <th>Compet_ratio</th>\n",
       "    </tr>\n",
       "  </thead>\n",
       "  <tbody>\n",
       "    <tr>\n",
       "      <th>0</th>\n",
       "      <td>0.455464</td>\n",
       "      <td>0.223689</td>\n",
       "      <td>0.257480</td>\n",
       "      <td>0.170539</td>\n",
       "      <td>0.857044</td>\n",
       "      <td>0.009142</td>\n",
       "    </tr>\n",
       "    <tr>\n",
       "      <th>1</th>\n",
       "      <td>0.755255</td>\n",
       "      <td>0.193673</td>\n",
       "      <td>0.142675</td>\n",
       "      <td>0.686275</td>\n",
       "      <td>0.927517</td>\n",
       "      <td>0.001305</td>\n",
       "    </tr>\n",
       "    <tr>\n",
       "      <th>2</th>\n",
       "      <td>0.295788</td>\n",
       "      <td>0.108266</td>\n",
       "      <td>0.817877</td>\n",
       "      <td>0.050894</td>\n",
       "      <td>0.000417</td>\n",
       "      <td>0.982334</td>\n",
       "    </tr>\n",
       "    <tr>\n",
       "      <th>3</th>\n",
       "      <td>0.873012</td>\n",
       "      <td>0.107089</td>\n",
       "      <td>0.739937</td>\n",
       "      <td>0.104994</td>\n",
       "      <td>0.962670</td>\n",
       "      <td>0.003308</td>\n",
       "    </tr>\n",
       "    <tr>\n",
       "      <th>4</th>\n",
       "      <td>0.588731</td>\n",
       "      <td>0.077179</td>\n",
       "      <td>0.668396</td>\n",
       "      <td>0.073694</td>\n",
       "      <td>0.004825</td>\n",
       "      <td>0.964741</td>\n",
       "    </tr>\n",
       "    <tr>\n",
       "      <th>...</th>\n",
       "      <td>...</td>\n",
       "      <td>...</td>\n",
       "      <td>...</td>\n",
       "      <td>...</td>\n",
       "      <td>...</td>\n",
       "      <td>...</td>\n",
       "    </tr>\n",
       "    <tr>\n",
       "      <th>2476</th>\n",
       "      <td>0.051028</td>\n",
       "      <td>0.552166</td>\n",
       "      <td>0.815959</td>\n",
       "      <td>0.082427</td>\n",
       "      <td>0.000431</td>\n",
       "      <td>0.971511</td>\n",
       "    </tr>\n",
       "    <tr>\n",
       "      <th>2477</th>\n",
       "      <td>0.185403</td>\n",
       "      <td>0.661061</td>\n",
       "      <td>0.386270</td>\n",
       "      <td>0.561255</td>\n",
       "      <td>0.018036</td>\n",
       "      <td>0.588520</td>\n",
       "    </tr>\n",
       "    <tr>\n",
       "      <th>2478</th>\n",
       "      <td>0.711005</td>\n",
       "      <td>0.247833</td>\n",
       "      <td>0.554532</td>\n",
       "      <td>0.139289</td>\n",
       "      <td>0.894758</td>\n",
       "      <td>0.009344</td>\n",
       "    </tr>\n",
       "    <tr>\n",
       "      <th>2479</th>\n",
       "      <td>0.270509</td>\n",
       "      <td>0.158540</td>\n",
       "      <td>0.545992</td>\n",
       "      <td>0.394945</td>\n",
       "      <td>0.011942</td>\n",
       "      <td>0.790966</td>\n",
       "    </tr>\n",
       "    <tr>\n",
       "      <th>2480</th>\n",
       "      <td>0.210255</td>\n",
       "      <td>0.595053</td>\n",
       "      <td>0.864716</td>\n",
       "      <td>0.108826</td>\n",
       "      <td>0.000628</td>\n",
       "      <td>0.964370</td>\n",
       "    </tr>\n",
       "  </tbody>\n",
       "</table>\n",
       "<p>2481 rows × 6 columns</p>\n",
       "</div>"
      ],
      "text/plain": [
       "           p11       p13       p21       p23  Clients_ratio  Compet_ratio\n",
       "0     0.455464  0.223689  0.257480  0.170539       0.857044      0.009142\n",
       "1     0.755255  0.193673  0.142675  0.686275       0.927517      0.001305\n",
       "2     0.295788  0.108266  0.817877  0.050894       0.000417      0.982334\n",
       "3     0.873012  0.107089  0.739937  0.104994       0.962670      0.003308\n",
       "4     0.588731  0.077179  0.668396  0.073694       0.004825      0.964741\n",
       "...        ...       ...       ...       ...            ...           ...\n",
       "2476  0.051028  0.552166  0.815959  0.082427       0.000431      0.971511\n",
       "2477  0.185403  0.661061  0.386270  0.561255       0.018036      0.588520\n",
       "2478  0.711005  0.247833  0.554532  0.139289       0.894758      0.009344\n",
       "2479  0.270509  0.158540  0.545992  0.394945       0.011942      0.790966\n",
       "2480  0.210255  0.595053  0.864716  0.108826       0.000628      0.964370\n",
       "\n",
       "[2481 rows x 6 columns]"
      ]
     },
     "execution_count": 19,
     "metadata": {},
     "output_type": "execute_result"
    }
   ],
   "source": [
    "train_df1 = pd.DataFrame(columns=['p11', 'p13', 'p21', 'p23', 'Clients_ratio', 'Compet_ratio'])\n",
    "train_df1 = train_df.append(train_df_lst)\n",
    "train_df1"
   ]
  },
  {
   "cell_type": "code",
   "execution_count": 20,
   "id": "39262a77",
   "metadata": {
    "ExecuteTime": {
     "end_time": "2022-03-15T08:37:04.637538Z",
     "start_time": "2022-03-15T08:37:04.557849Z"
    }
   },
   "outputs": [],
   "source": [
    "train_df1.to_csv('imit_train.csv', index = False)"
   ]
  },
  {
   "cell_type": "markdown",
   "id": "7f2b078e",
   "metadata": {},
   "source": [
    "### Получили выборку объемом почти 2500 (чуть меньше, т.к. часть моделей, как можно заметить, не успела сойтись), которую выгрузили в csv. Реализацию ML-модели будем производить в другом Jupyter-ноутбуке."
   ]
  },
  {
   "cell_type": "code",
   "execution_count": null,
   "id": "83e15eb6",
   "metadata": {},
   "outputs": [],
   "source": []
  },
  {
   "cell_type": "code",
   "execution_count": null,
   "id": "e631b9f1",
   "metadata": {},
   "outputs": [],
   "source": []
  },
  {
   "cell_type": "code",
   "execution_count": null,
   "id": "9a357c3d",
   "metadata": {},
   "outputs": [],
   "source": []
  }
 ],
 "metadata": {
  "kernelspec": {
   "display_name": "Python 3",
   "language": "python",
   "name": "python3"
  },
  "language_info": {
   "codemirror_mode": {
    "name": "ipython",
    "version": 3
   },
   "file_extension": ".py",
   "mimetype": "text/x-python",
   "name": "python",
   "nbconvert_exporter": "python",
   "pygments_lexer": "ipython3",
   "version": "3.8.8"
  }
 },
 "nbformat": 4,
 "nbformat_minor": 5
}
