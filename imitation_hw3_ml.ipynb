{
 "cells": [
  {
   "cell_type": "markdown",
   "id": "1fcdb083",
   "metadata": {},
   "source": [
    "## Жерноклеев Дмитрий \n",
    "### Домашнее задание 3. ML часть"
   ]
  },
  {
   "cell_type": "code",
   "execution_count": 1,
   "id": "d1c97c5b",
   "metadata": {
    "ExecuteTime": {
     "end_time": "2022-04-06T09:11:40.227969Z",
     "start_time": "2022-04-06T09:11:34.219139Z"
    }
   },
   "outputs": [],
   "source": [
    "import pandas as pd\n",
    "import numpy as np\n",
    "import matplotlib.pyplot as plt\n",
    "import seaborn as sns\n",
    "from sklearn import metrics\n",
    "from sklearn.preprocessing import OneHotEncoder\n",
    "from sklearn.compose import ColumnTransformer\n",
    "from sklearn.pipeline import Pipeline\n",
    "from sklearn.preprocessing import StandardScaler\n",
    "from sklearn.linear_model import Ridge\n",
    "from sklearn.metrics import mean_squared_error\n",
    "from sklearn.model_selection import train_test_split\n",
    "\n",
    "%matplotlib inline\n",
    "\n",
    "sns.set(style=\"darkgrid\")"
   ]
  },
  {
   "cell_type": "markdown",
   "id": "a1a541c4",
   "metadata": {},
   "source": [
    "### Подгрузим сгенерированную нами выборку"
   ]
  },
  {
   "cell_type": "code",
   "execution_count": 2,
   "id": "3762ec8b",
   "metadata": {
    "ExecuteTime": {
     "end_time": "2022-04-06T09:11:40.314142Z",
     "start_time": "2022-04-06T09:11:40.234606Z"
    }
   },
   "outputs": [
    {
     "data": {
      "text/html": [
       "<div>\n",
       "<style scoped>\n",
       "    .dataframe tbody tr th:only-of-type {\n",
       "        vertical-align: middle;\n",
       "    }\n",
       "\n",
       "    .dataframe tbody tr th {\n",
       "        vertical-align: top;\n",
       "    }\n",
       "\n",
       "    .dataframe thead th {\n",
       "        text-align: right;\n",
       "    }\n",
       "</style>\n",
       "<table border=\"1\" class=\"dataframe\">\n",
       "  <thead>\n",
       "    <tr style=\"text-align: right;\">\n",
       "      <th></th>\n",
       "      <th>u</th>\n",
       "      <th>u_e</th>\n",
       "      <th>mu</th>\n",
       "      <th>p_e</th>\n",
       "      <th>delta</th>\n",
       "      <th>y</th>\n",
       "    </tr>\n",
       "  </thead>\n",
       "  <tbody>\n",
       "    <tr>\n",
       "      <th>0</th>\n",
       "      <td>0.4</td>\n",
       "      <td>0.05</td>\n",
       "      <td>0.1</td>\n",
       "      <td>0.05</td>\n",
       "      <td>0.5</td>\n",
       "      <td>0.042133</td>\n",
       "    </tr>\n",
       "    <tr>\n",
       "      <th>1</th>\n",
       "      <td>0.4</td>\n",
       "      <td>0.05</td>\n",
       "      <td>0.1</td>\n",
       "      <td>0.10</td>\n",
       "      <td>0.2</td>\n",
       "      <td>0.151265</td>\n",
       "    </tr>\n",
       "    <tr>\n",
       "      <th>2</th>\n",
       "      <td>0.4</td>\n",
       "      <td>0.05</td>\n",
       "      <td>0.1</td>\n",
       "      <td>0.10</td>\n",
       "      <td>0.4</td>\n",
       "      <td>0.137932</td>\n",
       "    </tr>\n",
       "    <tr>\n",
       "      <th>3</th>\n",
       "      <td>0.4</td>\n",
       "      <td>0.05</td>\n",
       "      <td>0.1</td>\n",
       "      <td>0.10</td>\n",
       "      <td>0.5</td>\n",
       "      <td>0.054475</td>\n",
       "    </tr>\n",
       "    <tr>\n",
       "      <th>4</th>\n",
       "      <td>0.4</td>\n",
       "      <td>0.05</td>\n",
       "      <td>0.1</td>\n",
       "      <td>0.20</td>\n",
       "      <td>0.0</td>\n",
       "      <td>0.312031</td>\n",
       "    </tr>\n",
       "    <tr>\n",
       "      <th>...</th>\n",
       "      <td>...</td>\n",
       "      <td>...</td>\n",
       "      <td>...</td>\n",
       "      <td>...</td>\n",
       "      <td>...</td>\n",
       "      <td>...</td>\n",
       "    </tr>\n",
       "    <tr>\n",
       "      <th>824</th>\n",
       "      <td>1.4</td>\n",
       "      <td>0.20</td>\n",
       "      <td>0.5</td>\n",
       "      <td>0.20</td>\n",
       "      <td>0.5</td>\n",
       "      <td>0.709102</td>\n",
       "    </tr>\n",
       "    <tr>\n",
       "      <th>825</th>\n",
       "      <td>1.4</td>\n",
       "      <td>0.20</td>\n",
       "      <td>0.5</td>\n",
       "      <td>0.30</td>\n",
       "      <td>0.0</td>\n",
       "      <td>0.222245</td>\n",
       "    </tr>\n",
       "    <tr>\n",
       "      <th>826</th>\n",
       "      <td>1.4</td>\n",
       "      <td>0.20</td>\n",
       "      <td>0.5</td>\n",
       "      <td>0.30</td>\n",
       "      <td>0.2</td>\n",
       "      <td>0.500102</td>\n",
       "    </tr>\n",
       "    <tr>\n",
       "      <th>827</th>\n",
       "      <td>1.4</td>\n",
       "      <td>0.20</td>\n",
       "      <td>0.5</td>\n",
       "      <td>0.30</td>\n",
       "      <td>0.4</td>\n",
       "      <td>0.090000</td>\n",
       "    </tr>\n",
       "    <tr>\n",
       "      <th>828</th>\n",
       "      <td>1.4</td>\n",
       "      <td>0.20</td>\n",
       "      <td>0.5</td>\n",
       "      <td>0.30</td>\n",
       "      <td>0.5</td>\n",
       "      <td>0.077602</td>\n",
       "    </tr>\n",
       "  </tbody>\n",
       "</table>\n",
       "<p>829 rows × 6 columns</p>\n",
       "</div>"
      ],
      "text/plain": [
       "       u   u_e   mu   p_e  delta         y\n",
       "0    0.4  0.05  0.1  0.05    0.5  0.042133\n",
       "1    0.4  0.05  0.1  0.10    0.2  0.151265\n",
       "2    0.4  0.05  0.1  0.10    0.4  0.137932\n",
       "3    0.4  0.05  0.1  0.10    0.5  0.054475\n",
       "4    0.4  0.05  0.1  0.20    0.0  0.312031\n",
       "..   ...   ...  ...   ...    ...       ...\n",
       "824  1.4  0.20  0.5  0.20    0.5  0.709102\n",
       "825  1.4  0.20  0.5  0.30    0.0  0.222245\n",
       "826  1.4  0.20  0.5  0.30    0.2  0.500102\n",
       "827  1.4  0.20  0.5  0.30    0.4  0.090000\n",
       "828  1.4  0.20  0.5  0.30    0.5  0.077602\n",
       "\n",
       "[829 rows x 6 columns]"
      ]
     },
     "execution_count": 2,
     "metadata": {},
     "output_type": "execute_result"
    }
   ],
   "source": [
    "df = pd.read_csv('def_train.csv')\n",
    "df"
   ]
  },
  {
   "cell_type": "code",
   "execution_count": 3,
   "id": "c9f05db5",
   "metadata": {
    "ExecuteTime": {
     "end_time": "2022-04-06T09:11:40.360477Z",
     "start_time": "2022-04-06T09:11:40.321824Z"
    }
   },
   "outputs": [
    {
     "data": {
      "text/plain": [
       "u        float64\n",
       "u_e      float64\n",
       "mu       float64\n",
       "p_e      float64\n",
       "delta    float64\n",
       "y        float64\n",
       "dtype: object"
      ]
     },
     "metadata": {},
     "output_type": "display_data"
    },
    {
     "data": {
      "text/plain": [
       "u        0\n",
       "u_e      0\n",
       "mu       0\n",
       "p_e      0\n",
       "delta    0\n",
       "y        0\n",
       "dtype: int64"
      ]
     },
     "execution_count": 3,
     "metadata": {},
     "output_type": "execute_result"
    }
   ],
   "source": [
    "display(df.dtypes)\n",
    "df.isna().sum()"
   ]
  },
  {
   "cell_type": "markdown",
   "id": "ecabceaa",
   "metadata": {},
   "source": [
    "### Разобьем на обучающую и тестовую части"
   ]
  },
  {
   "cell_type": "code",
   "execution_count": 4,
   "id": "cf8c805b",
   "metadata": {
    "ExecuteTime": {
     "end_time": "2022-04-06T09:12:39.860626Z",
     "start_time": "2022-04-06T09:12:39.845996Z"
    }
   },
   "outputs": [],
   "source": [
    "y = df['y']\n",
    "X = df.drop(columns=['y']).copy()\n",
    "X_train, X_test, y_train, y_test = train_test_split(X, y, test_size=0.2, random_state=10)"
   ]
  },
  {
   "cell_type": "code",
   "execution_count": 5,
   "id": "712a2e2f",
   "metadata": {
    "ExecuteTime": {
     "end_time": "2022-04-06T09:12:40.923330Z",
     "start_time": "2022-04-06T09:12:40.905219Z"
    }
   },
   "outputs": [
    {
     "data": {
      "text/plain": [
       "39     0.077806\n",
       "195    0.231602\n",
       "167    0.162383\n",
       "451    0.183673\n",
       "191    0.191389\n",
       "         ...   \n",
       "369    0.796593\n",
       "320    0.177602\n",
       "527    0.509453\n",
       "125    0.128827\n",
       "265    0.511250\n",
       "Name: y, Length: 663, dtype: float64"
      ]
     },
     "execution_count": 5,
     "metadata": {},
     "output_type": "execute_result"
    }
   ],
   "source": [
    "y_train"
   ]
  },
  {
   "cell_type": "markdown",
   "id": "925921ef",
   "metadata": {},
   "source": [
    "### Отскейлим данные и обучим обычную Ridge регрессию"
   ]
  },
  {
   "cell_type": "code",
   "execution_count": 6,
   "id": "340249f0",
   "metadata": {
    "ExecuteTime": {
     "end_time": "2022-04-06T09:43:21.395732Z",
     "start_time": "2022-04-06T09:43:20.938203Z"
    }
   },
   "outputs": [
    {
     "name": "stdout",
     "output_type": "stream",
     "text": [
      "Train RMSE = 0.25764492\n",
      "Test RMSE = 0.26284403\n",
      "Test R^2 = 0.19929146\n"
     ]
    }
   ],
   "source": [
    "numeric_features = list(X_train.columns)\n",
    "\n",
    "column_transformer = ColumnTransformer([\n",
    "    ('scaling', StandardScaler(), numeric_features)\n",
    "])\n",
    "\n",
    "pipeline = Pipeline(steps=[\n",
    "    ('scale', column_transformer),\n",
    "    ('regression', Ridge())\n",
    "])\n",
    "\n",
    "model = pipeline.fit(X_train, y_train)\n",
    "y_pred = model.predict(X_test)\n",
    "print(\"Train RMSE = %.8f\" % mean_squared_error(y_train, model.predict(X_train), squared=False))\n",
    "print(\"Test RMSE = %.8f\" % mean_squared_error(y_test, y_pred, squared=False))\n",
    "print(\"Test R^2 = %.8f\" % metrics.r2_score(y_test, y_pred))"
   ]
  },
  {
   "cell_type": "markdown",
   "id": "019d4901",
   "metadata": {},
   "source": [
    "#### RMSE получились большими, учитывая, что мы предсказываем y, а  $𝑅^2$  очень маленький, но пусть это будет бейслайн моделью"
   ]
  },
  {
   "cell_type": "markdown",
   "id": "74ca1cbb",
   "metadata": {},
   "source": [
    "### Попробуем выделить валидационную часть и по поискать более оптимальные значения коэффициента регуляризации, возможно, это поможет снизить RMSE"
   ]
  },
  {
   "cell_type": "code",
   "execution_count": 7,
   "id": "71b1cf2f",
   "metadata": {
    "ExecuteTime": {
     "end_time": "2022-04-06T09:43:53.512957Z",
     "start_time": "2022-04-06T09:43:53.501003Z"
    }
   },
   "outputs": [],
   "source": [
    "X_train_new, X_val, y_train_new, y_val = train_test_split(X_train, y_train, test_size=0.2, random_state=10)"
   ]
  },
  {
   "cell_type": "code",
   "execution_count": 8,
   "id": "143bb878",
   "metadata": {
    "ExecuteTime": {
     "end_time": "2022-04-06T09:44:41.560973Z",
     "start_time": "2022-04-06T09:44:29.974914Z"
    }
   },
   "outputs": [
    {
     "name": "stdout",
     "output_type": "stream",
     "text": [
      "Best alpha = 0.00000100\n"
     ]
    },
    {
     "data": {
      "image/png": "[encoded data removed]",
      "text/plain": [
       "<Figure size 432x288 with 1 Axes>"
      ]
     },
     "metadata": {},
     "output_type": "display_data"
    }
   ],
   "source": [
    "from sklearn.model_selection import GridSearchCV\n",
    "from sklearn.model_selection import PredefinedSplit\n",
    "\n",
    "split_index = [-1 if x in X_train_new.index else 0 for x in X_train.index]\n",
    "pds = PredefinedSplit(test_fold=split_index)\n",
    "\n",
    "alphas = np.logspace(-6, 1, 20)\n",
    "searcher = GridSearchCV(pipeline, [{\"regression__alpha\": alphas}], scoring=\"neg_root_mean_squared_error\", cv=pds, n_jobs=-1)\n",
    "searcher.fit(X_train, y_train)\n",
    "\n",
    "best_alpha = searcher.best_params_[\"regression__alpha\"]\n",
    "print(\"Best alpha = %.8f\" % best_alpha)\n",
    "\n",
    "plt.plot(alphas, -searcher.cv_results_[\"mean_test_score\"])\n",
    "plt.xscale(\"log\")\n",
    "plt.xlabel(\"alpha\")\n",
    "plt.ylabel(\"CV score\")\n",
    "plt.show()"
   ]
  },
  {
   "cell_type": "code",
   "execution_count": 10,
   "id": "de523d41",
   "metadata": {
    "ExecuteTime": {
     "end_time": "2022-04-06T09:45:09.629165Z",
     "start_time": "2022-04-06T09:45:09.588712Z"
    }
   },
   "outputs": [
    {
     "name": "stdout",
     "output_type": "stream",
     "text": [
      "Test RMSE = 0.26285843\n",
      "Test R^2 = 0.19920374\n"
     ]
    }
   ],
   "source": [
    "pipeline = Pipeline(steps=[\n",
    "    ('scale', column_transformer),\n",
    "    ('regression', Ridge(best_alpha))\n",
    "])\n",
    "\n",
    "model = pipeline.fit(X_train, y_train)\n",
    "y_pred = model.predict(X_test)\n",
    "print(\"Test RMSE = %.8f\" % mean_squared_error(y_test, y_pred, squared=False))\n",
    "print(\"Test R^2 = %.8f\" % metrics.r2_score(y_test, y_pred))"
   ]
  },
  {
   "cell_type": "markdown",
   "id": "04a5b173",
   "metadata": {},
   "source": [
    "#### Качество не улучшилось. Попробуем проделать то же с Lasso-регрессией"
   ]
  },
  {
   "cell_type": "code",
   "execution_count": 18,
   "id": "4f85f2fc",
   "metadata": {
    "ExecuteTime": {
     "end_time": "2022-04-06T10:11:52.030877Z",
     "start_time": "2022-04-06T10:11:41.096247Z"
    }
   },
   "outputs": [
    {
     "name": "stdout",
     "output_type": "stream",
     "text": [
      "Best alpha = 0.00000100\n"
     ]
    },
    {
     "data": {
      "image/png": "[encoded data removed]",
      "text/plain": [
       "<Figure size 432x288 with 1 Axes>"
      ]
     },
     "metadata": {},
     "output_type": "display_data"
    }
   ],
   "source": [
    "from sklearn.linear_model import Lasso\n",
    "lasso_pipeline = Pipeline(steps=[\n",
    "    ('scale', column_transformer),\n",
    "    ('regression', Lasso())\n",
    "])\n",
    "\n",
    "searcher = GridSearchCV(lasso_pipeline, [{\"regression__alpha\": alphas}], scoring=\"neg_root_mean_squared_error\", cv=pds, n_jobs=-1)\n",
    "searcher.fit(X_train, y_train)\n",
    "\n",
    "best_alpha1 = searcher.best_params_[\"regression__alpha\"]\n",
    "print(\"Best alpha = %.8f\" % best_alpha1)\n",
    "\n",
    "plt.plot(alphas, -searcher.cv_results_[\"mean_test_score\"])\n",
    "plt.xscale(\"log\")\n",
    "plt.xlabel(\"alpha\")\n",
    "plt.ylabel(\"CV score\")\n",
    "plt.show()"
   ]
  },
  {
   "cell_type": "code",
   "execution_count": 19,
   "id": "66c3302d",
   "metadata": {
    "ExecuteTime": {
     "end_time": "2022-04-06T10:11:54.691354Z",
     "start_time": "2022-04-06T10:11:54.659395Z"
    }
   },
   "outputs": [
    {
     "name": "stdout",
     "output_type": "stream",
     "text": [
      "Test RMSE = 0.26285813\n"
     ]
    }
   ],
   "source": [
    "pipeline = Pipeline(steps=[\n",
    "    ('scale', column_transformer),\n",
    "    ('regression', Lasso(best_alpha1))\n",
    "])\n",
    "\n",
    "model = pipeline.fit(X_train, y_train)\n",
    "y_pred = model.predict(X_test)\n",
    "print(\"Test RMSE = %.8f\" % mean_squared_error(y_test, y_pred, squared=False))"
   ]
  },
  {
   "cell_type": "markdown",
   "id": "642c9cde",
   "metadata": {},
   "source": [
    "#### Снова нет улучшений"
   ]
  },
  {
   "cell_type": "markdown",
   "id": "72c783b4",
   "metadata": {},
   "source": [
    "### Попробуем теперь обучить RandomForest"
   ]
  },
  {
   "cell_type": "code",
   "execution_count": 12,
   "id": "48b31d60",
   "metadata": {
    "ExecuteTime": {
     "end_time": "2022-04-06T09:46:07.510592Z",
     "start_time": "2022-04-06T09:46:05.032448Z"
    }
   },
   "outputs": [
    {
     "name": "stdout",
     "output_type": "stream",
     "text": [
      "Test RMSE = 0.21665576\n",
      "Test R^2 = 0.45597522\n"
     ]
    }
   ],
   "source": [
    "from sklearn.ensemble import RandomForestRegressor\n",
    "rfr = RandomForestRegressor(n_estimators=500, max_features=int(X_train.shape[1] / 3))\n",
    "rfr.fit(X_train, y_train)\n",
    "y_pred = rfr.predict(X_test)\n",
    "print(\"Test RMSE = %.8f\" % mean_squared_error(y_test, y_pred, squared=False))\n",
    "print(\"Test R^2 = %.8f\" % metrics.r2_score(y_test, y_pred))"
   ]
  },
  {
   "cell_type": "markdown",
   "id": "ba267bf3",
   "metadata": {},
   "source": [
    "#### RMSE снизился на 0,05 (т.е. уменьшился почти на 20% по сравнению с бейслайном). $R^2$ вырос больше, чем в 2 раза."
   ]
  },
  {
   "cell_type": "code",
   "execution_count": 13,
   "id": "948e396b",
   "metadata": {
    "ExecuteTime": {
     "end_time": "2022-04-06T09:46:34.237451Z",
     "start_time": "2022-04-06T09:46:34.219728Z"
    }
   },
   "outputs": [],
   "source": [
    "param_grid = {\n",
    "    'max_depth': [80, 90, 100],\n",
    "    'max_features': [1, 2, 3],\n",
    "    'min_samples_leaf': [3, 4, 5],\n",
    "    'min_samples_split': [8, 10, 12],\n",
    "    'n_estimators': [100, 300, 500, 700]\n",
    "}\n",
    "\n",
    "rfr_grid = RandomForestRegressor()\n",
    "grid_search = GridSearchCV(estimator = rfr_grid, param_grid = param_grid, scoring=\"neg_root_mean_squared_error\",\n",
    "                          cv = 3, n_jobs = -1)"
   ]
  },
  {
   "cell_type": "code",
   "execution_count": 14,
   "id": "642880c5",
   "metadata": {
    "ExecuteTime": {
     "end_time": "2022-04-06T09:51:16.051209Z",
     "start_time": "2022-04-06T09:46:43.542894Z"
    }
   },
   "outputs": [
    {
     "name": "stdout",
     "output_type": "stream",
     "text": [
      "{'max_depth': 90, 'max_features': 3, 'min_samples_leaf': 3, 'min_samples_split': 8, 'n_estimators': 300}\n"
     ]
    }
   ],
   "source": [
    "grid_search.fit(X_train, y_train)\n",
    "print(grid_search.best_params_)"
   ]
  },
  {
   "cell_type": "code",
   "execution_count": 15,
   "id": "d80a8e9c",
   "metadata": {
    "ExecuteTime": {
     "end_time": "2022-04-06T09:51:16.082918Z",
     "start_time": "2022-04-06T09:51:16.058008Z"
    }
   },
   "outputs": [
    {
     "name": "stdout",
     "output_type": "stream",
     "text": [
      "0.20116319858240528\n"
     ]
    }
   ],
   "source": [
    "print(-grid_search.best_score_)"
   ]
  },
  {
   "cell_type": "code",
   "execution_count": 17,
   "id": "ae632e08",
   "metadata": {
    "ExecuteTime": {
     "end_time": "2022-04-06T09:51:40.638301Z",
     "start_time": "2022-04-06T09:51:39.469409Z"
    }
   },
   "outputs": [
    {
     "name": "stdout",
     "output_type": "stream",
     "text": [
      "Test RMSE = 0.21118554\n",
      "Test R^2 = 0.48309998\n"
     ]
    }
   ],
   "source": [
    "rfr_best = RandomForestRegressor(n_estimators=300, max_features=3, max_depth=80, min_samples_leaf=3, min_samples_split=8)\n",
    "rfr_best.fit(X_train, y_train)\n",
    "y_pred = rfr_best.predict(X_test)\n",
    "print(\"Test RMSE = %.8f\" % mean_squared_error(y_test, y_pred, squared=False))\n",
    "print(\"Test R^2 = %.8f\" % metrics.r2_score(y_test, y_pred))"
   ]
  },
  {
   "cell_type": "markdown",
   "id": "9ef47e92",
   "metadata": {},
   "source": [
    "#### Благодаря GridSearch и поиску оптимальных гиперпараметры, получилось ещё немного улучшить нашу модель, снизив RMSE и увеличив $R^2$"
   ]
  },
  {
   "cell_type": "markdown",
   "id": "67ca2926",
   "metadata": {},
   "source": [
    "### Попробуем ещё градиентный бустинг"
   ]
  },
  {
   "cell_type": "code",
   "execution_count": 24,
   "id": "f25eae7a",
   "metadata": {
    "ExecuteTime": {
     "end_time": "2022-04-06T10:35:47.071407Z",
     "start_time": "2022-04-06T10:35:46.868052Z"
    }
   },
   "outputs": [
    {
     "name": "stdout",
     "output_type": "stream",
     "text": [
      "Test RMSE = 0.21097080\n",
      "Test R^2 = 0.48415062\n"
     ]
    }
   ],
   "source": [
    "import xgboost as xgb\n",
    "xgb_model = xgb.XGBRegressor(n_estimators=100, max_depth=3, learning_rate=0.05, nthread=4, seed=42)\n",
    "xgb_model.fit(X_train, y_train)\n",
    "y_pred = xgb_model.predict(X_test)\n",
    "print(\"Test RMSE = %.8f\" % mean_squared_error(y_test, y_pred, squared=False))\n",
    "print(\"Test R^2 = %.8f\" % metrics.r2_score(y_test, y_pred))"
   ]
  },
  {
   "cell_type": "code",
   "execution_count": 56,
   "id": "fcbd0812",
   "metadata": {
    "ExecuteTime": {
     "end_time": "2022-04-06T11:08:11.617985Z",
     "start_time": "2022-04-06T11:04:40.968655Z"
    }
   },
   "outputs": [
    {
     "name": "stdout",
     "output_type": "stream",
     "text": [
      "Best params: {'colsample_bytree': 0.7, 'learning_rate': 0.15, 'max_depth': 4, 'n_estimators': 500, 'reg_alpha': 0.5, 'reg_lambda': 1.0, 'subsample': 0.5}\n",
      "Best score: 0.21166535985391127\n"
     ]
    }
   ],
   "source": [
    "xgb_model = xgb.XGBRegressor(nthread=4, seed=42)\n",
    "\n",
    "x_train_test = np.vstack((X_train, X_test))\n",
    "y_train_test = np.hstack((y_train, y_test))\n",
    "split_index1 = [-1 if i in range(X_train.shape[0]) else 0 for i in range(x_train_test.shape[0])]\n",
    "pd1 = PredefinedSplit(test_fold = split_index1)\n",
    "\n",
    "param_grid1 = {\n",
    "    'n_estimators': [50, 100, 500],\n",
    "    'learning_rate': [0.025, 0.05, 0.15],\n",
    "    'colsample_bytree': [0.3, 0.5, 0.7],\n",
    "    'max_depth': [3, 4, 7],\n",
    "    'reg_lambda': [0.5, 1.0, 1.2],\n",
    "    'reg_alpha': [0.5, 1.0, 1.2],\n",
    "    'subsample': [0.3, 0.5, 0.7]\n",
    "}\n",
    "\n",
    "clf = GridSearchCV(xgb_model, param_grid=param_grid1, scoring='neg_root_mean_squared_error', cv=pd1, n_jobs=-1)\n",
    "clf.fit(x_train_test, y_train_test)\n",
    "print('Best params:', clf.best_params_)\n",
    "print('Best score:', -clf.best_score_)"
   ]
  },
  {
   "cell_type": "code",
   "execution_count": 68,
   "id": "6a603cd1",
   "metadata": {
    "ExecuteTime": {
     "end_time": "2022-04-06T11:11:24.685887Z",
     "start_time": "2022-04-06T11:11:24.262402Z"
    }
   },
   "outputs": [
    {
     "name": "stdout",
     "output_type": "stream",
     "text": [
      "Test RMSE = 0.20759424\n",
      "Test R^2 = 0.50053069\n"
     ]
    }
   ],
   "source": [
    "xgb_best = xgb.XGBRegressor(**{'learning_rate': 0.02, 'max_depth': 4, \n",
    "                               'n_estimators': 500, 'reg_alpha': 0.5, 'reg_lambda': 1.0, 'subsample': 0.7})\n",
    "xgb_best.fit(X_train, y_train)\n",
    "y_pred = xgb_best.predict(X_test)\n",
    "print(\"Test RMSE = %.8f\" % mean_squared_error(y_test, y_pred, squared=False))\n",
    "print(\"Test R^2 = %.8f\" % metrics.r2_score(y_test, y_pred))"
   ]
  },
  {
   "cell_type": "markdown",
   "id": "8152b115",
   "metadata": {},
   "source": [
    "#### Получилось ещё улучшить результаты. Видимо, проблема все же в размере исходной выборке, возможно, если бы нагенерилась выборка объемом хотя бы около 2000, результаты были бы существенно лучше"
   ]
  },
  {
   "cell_type": "code",
   "execution_count": null,
   "id": "bc8263e4",
   "metadata": {},
   "outputs": [],
   "source": []
  }
 ],
 "metadata": {
  "kernelspec": {
   "display_name": "Python 3",
   "language": "python",
   "name": "python3"
  },
  "language_info": {
   "codemirror_mode": {
    "name": "ipython",
    "version": 3
   },
   "file_extension": ".py",
   "mimetype": "text/x-python",
   "name": "python",
   "nbconvert_exporter": "python",
   "pygments_lexer": "ipython3",
   "version": "3.8.8"
  }
 },
 "nbformat": 4,
 "nbformat_minor": 5
}
