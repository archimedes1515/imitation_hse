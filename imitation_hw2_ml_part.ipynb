{
 "cells": [
  {
   "cell_type": "markdown",
   "id": "71923a3f",
   "metadata": {},
   "source": [
    "## Жерноклеев Дмитрий \n",
    "### Домашнее задание 2. ML часть"
   ]
  },
  {
   "cell_type": "code",
   "execution_count": 1,
   "id": "da66c3b9",
   "metadata": {
    "ExecuteTime": {
     "end_time": "2022-03-15T09:22:15.780640Z",
     "start_time": "2022-03-15T09:22:11.180893Z"
    }
   },
   "outputs": [],
   "source": [
    "import pandas as pd\n",
    "import numpy as np\n",
    "import matplotlib.pyplot as plt\n",
    "import seaborn as sns\n",
    "from sklearn import metrics\n",
    "from sklearn.preprocessing import OneHotEncoder\n",
    "from sklearn.compose import ColumnTransformer\n",
    "from sklearn.pipeline import Pipeline\n",
    "from sklearn.preprocessing import StandardScaler\n",
    "from sklearn.linear_model import Ridge\n",
    "from sklearn.metrics import mean_squared_error\n",
    "from sklearn.model_selection import train_test_split\n",
    "\n",
    "%matplotlib inline\n",
    "\n",
    "sns.set(style=\"darkgrid\")"
   ]
  },
  {
   "cell_type": "markdown",
   "id": "90c37d22",
   "metadata": {},
   "source": [
    "### Подгрузим сгенерированную нами ранее выборку"
   ]
  },
  {
   "cell_type": "code",
   "execution_count": 2,
   "id": "853270b9",
   "metadata": {
    "ExecuteTime": {
     "end_time": "2022-03-15T09:22:15.890269Z",
     "start_time": "2022-03-15T09:22:15.786532Z"
    }
   },
   "outputs": [
    {
     "data": {
      "text/html": [
       "<div>\n",
       "<style scoped>\n",
       "    .dataframe tbody tr th:only-of-type {\n",
       "        vertical-align: middle;\n",
       "    }\n",
       "\n",
       "    .dataframe tbody tr th {\n",
       "        vertical-align: top;\n",
       "    }\n",
       "\n",
       "    .dataframe thead th {\n",
       "        text-align: right;\n",
       "    }\n",
       "</style>\n",
       "<table border=\"1\" class=\"dataframe\">\n",
       "  <thead>\n",
       "    <tr style=\"text-align: right;\">\n",
       "      <th></th>\n",
       "      <th>p11</th>\n",
       "      <th>p13</th>\n",
       "      <th>p21</th>\n",
       "      <th>p23</th>\n",
       "      <th>Clients_ratio</th>\n",
       "      <th>Compet_ratio</th>\n",
       "    </tr>\n",
       "  </thead>\n",
       "  <tbody>\n",
       "    <tr>\n",
       "      <th>0</th>\n",
       "      <td>0.455464</td>\n",
       "      <td>0.223689</td>\n",
       "      <td>0.257480</td>\n",
       "      <td>0.170539</td>\n",
       "      <td>0.857044</td>\n",
       "      <td>0.009142</td>\n",
       "    </tr>\n",
       "    <tr>\n",
       "      <th>1</th>\n",
       "      <td>0.755255</td>\n",
       "      <td>0.193673</td>\n",
       "      <td>0.142675</td>\n",
       "      <td>0.686275</td>\n",
       "      <td>0.927517</td>\n",
       "      <td>0.001305</td>\n",
       "    </tr>\n",
       "    <tr>\n",
       "      <th>2</th>\n",
       "      <td>0.295788</td>\n",
       "      <td>0.108266</td>\n",
       "      <td>0.817877</td>\n",
       "      <td>0.050894</td>\n",
       "      <td>0.000417</td>\n",
       "      <td>0.982334</td>\n",
       "    </tr>\n",
       "    <tr>\n",
       "      <th>3</th>\n",
       "      <td>0.873012</td>\n",
       "      <td>0.107089</td>\n",
       "      <td>0.739937</td>\n",
       "      <td>0.104994</td>\n",
       "      <td>0.962670</td>\n",
       "      <td>0.003308</td>\n",
       "    </tr>\n",
       "    <tr>\n",
       "      <th>4</th>\n",
       "      <td>0.588731</td>\n",
       "      <td>0.077179</td>\n",
       "      <td>0.668396</td>\n",
       "      <td>0.073694</td>\n",
       "      <td>0.004825</td>\n",
       "      <td>0.964741</td>\n",
       "    </tr>\n",
       "    <tr>\n",
       "      <th>...</th>\n",
       "      <td>...</td>\n",
       "      <td>...</td>\n",
       "      <td>...</td>\n",
       "      <td>...</td>\n",
       "      <td>...</td>\n",
       "      <td>...</td>\n",
       "    </tr>\n",
       "    <tr>\n",
       "      <th>2476</th>\n",
       "      <td>0.051028</td>\n",
       "      <td>0.552166</td>\n",
       "      <td>0.815959</td>\n",
       "      <td>0.082427</td>\n",
       "      <td>0.000431</td>\n",
       "      <td>0.971511</td>\n",
       "    </tr>\n",
       "    <tr>\n",
       "      <th>2477</th>\n",
       "      <td>0.185403</td>\n",
       "      <td>0.661061</td>\n",
       "      <td>0.386270</td>\n",
       "      <td>0.561255</td>\n",
       "      <td>0.018036</td>\n",
       "      <td>0.588520</td>\n",
       "    </tr>\n",
       "    <tr>\n",
       "      <th>2478</th>\n",
       "      <td>0.711005</td>\n",
       "      <td>0.247833</td>\n",
       "      <td>0.554532</td>\n",
       "      <td>0.139289</td>\n",
       "      <td>0.894758</td>\n",
       "      <td>0.009344</td>\n",
       "    </tr>\n",
       "    <tr>\n",
       "      <th>2479</th>\n",
       "      <td>0.270509</td>\n",
       "      <td>0.158540</td>\n",
       "      <td>0.545992</td>\n",
       "      <td>0.394945</td>\n",
       "      <td>0.011942</td>\n",
       "      <td>0.790966</td>\n",
       "    </tr>\n",
       "    <tr>\n",
       "      <th>2480</th>\n",
       "      <td>0.210255</td>\n",
       "      <td>0.595053</td>\n",
       "      <td>0.864716</td>\n",
       "      <td>0.108826</td>\n",
       "      <td>0.000628</td>\n",
       "      <td>0.964370</td>\n",
       "    </tr>\n",
       "  </tbody>\n",
       "</table>\n",
       "<p>2481 rows × 6 columns</p>\n",
       "</div>"
      ],
      "text/plain": [
       "           p11       p13       p21       p23  Clients_ratio  Compet_ratio\n",
       "0     0.455464  0.223689  0.257480  0.170539       0.857044      0.009142\n",
       "1     0.755255  0.193673  0.142675  0.686275       0.927517      0.001305\n",
       "2     0.295788  0.108266  0.817877  0.050894       0.000417      0.982334\n",
       "3     0.873012  0.107089  0.739937  0.104994       0.962670      0.003308\n",
       "4     0.588731  0.077179  0.668396  0.073694       0.004825      0.964741\n",
       "...        ...       ...       ...       ...            ...           ...\n",
       "2476  0.051028  0.552166  0.815959  0.082427       0.000431      0.971511\n",
       "2477  0.185403  0.661061  0.386270  0.561255       0.018036      0.588520\n",
       "2478  0.711005  0.247833  0.554532  0.139289       0.894758      0.009344\n",
       "2479  0.270509  0.158540  0.545992  0.394945       0.011942      0.790966\n",
       "2480  0.210255  0.595053  0.864716  0.108826       0.000628      0.964370\n",
       "\n",
       "[2481 rows x 6 columns]"
      ]
     },
     "execution_count": 2,
     "metadata": {},
     "output_type": "execute_result"
    }
   ],
   "source": [
    "df = pd.read_csv('imit_train.csv')\n",
    "df"
   ]
  },
  {
   "cell_type": "code",
   "execution_count": 3,
   "id": "2aa91be3",
   "metadata": {
    "ExecuteTime": {
     "end_time": "2022-03-15T09:22:15.921388Z",
     "start_time": "2022-03-15T09:22:15.895222Z"
    }
   },
   "outputs": [
    {
     "data": {
      "text/plain": [
       "p11              float64\n",
       "p13              float64\n",
       "p21              float64\n",
       "p23              float64\n",
       "Clients_ratio    float64\n",
       "Compet_ratio     float64\n",
       "dtype: object"
      ]
     },
     "metadata": {},
     "output_type": "display_data"
    }
   ],
   "source": [
    "display(df.dtypes)"
   ]
  },
  {
   "cell_type": "markdown",
   "id": "fc69aae6",
   "metadata": {},
   "source": [
    "### Данные импортнулись корректно"
   ]
  },
  {
   "cell_type": "markdown",
   "id": "cd03423f",
   "metadata": {},
   "source": [
    "### Разобьем на обучающую и тестовую части с шафлом"
   ]
  },
  {
   "cell_type": "code",
   "execution_count": 4,
   "id": "02657791",
   "metadata": {
    "ExecuteTime": {
     "end_time": "2022-03-15T09:22:15.952389Z",
     "start_time": "2022-03-15T09:22:15.928610Z"
    }
   },
   "outputs": [],
   "source": [
    "y = df['Clients_ratio']\n",
    "X = df.drop(columns=['Clients_ratio', 'Compet_ratio']).copy()\n",
    "X_train, X_test, y_train, y_test = train_test_split(X, y, test_size=0.2, random_state=10)"
   ]
  },
  {
   "cell_type": "code",
   "execution_count": 5,
   "id": "76012d84",
   "metadata": {
    "ExecuteTime": {
     "end_time": "2022-03-15T09:22:15.982479Z",
     "start_time": "2022-03-15T09:22:15.955390Z"
    }
   },
   "outputs": [
    {
     "data": {
      "text/plain": [
       "493     0.996627\n",
       "349     0.919114\n",
       "248     0.000432\n",
       "1646    0.499606\n",
       "1787    0.985062\n",
       "          ...   \n",
       "2009    0.001658\n",
       "1180    0.041831\n",
       "1344    0.616651\n",
       "527     0.035511\n",
       "1289    0.013482\n",
       "Name: Clients_ratio, Length: 1984, dtype: float64"
      ]
     },
     "execution_count": 5,
     "metadata": {},
     "output_type": "execute_result"
    }
   ],
   "source": [
    "y_train"
   ]
  },
  {
   "cell_type": "code",
   "execution_count": 6,
   "id": "ce5553df",
   "metadata": {
    "ExecuteTime": {
     "end_time": "2022-03-15T09:22:16.013654Z",
     "start_time": "2022-03-15T09:22:16.000606Z"
    }
   },
   "outputs": [
    {
     "data": {
      "text/plain": [
       "['p11', 'p13', 'p21', 'p23']"
      ]
     },
     "execution_count": 6,
     "metadata": {},
     "output_type": "execute_result"
    }
   ],
   "source": [
    "list(X_train.columns)"
   ]
  },
  {
   "cell_type": "markdown",
   "id": "bf48405e",
   "metadata": {},
   "source": [
    "### Отскейлим данные и обучим обычную Ridge регрессию"
   ]
  },
  {
   "cell_type": "code",
   "execution_count": 7,
   "id": "79f51739",
   "metadata": {
    "ExecuteTime": {
     "end_time": "2022-03-15T09:22:16.107656Z",
     "start_time": "2022-03-15T09:22:16.019686Z"
    }
   },
   "outputs": [
    {
     "name": "stdout",
     "output_type": "stream",
     "text": [
      "Train RMSE = 0.23977362\n",
      "Test RMSE = 0.24267526\n",
      "Test R^2 = 0.71683129\n"
     ]
    }
   ],
   "source": [
    "numeric_features = list(X_train.columns)\n",
    "\n",
    "column_transformer = ColumnTransformer([\n",
    "    ('scaling', StandardScaler(), numeric_features)\n",
    "])\n",
    "\n",
    "pipeline = Pipeline(steps=[\n",
    "    ('scale', column_transformer),\n",
    "    ('regression', Ridge())\n",
    "])\n",
    "\n",
    "model = pipeline.fit(X_train, y_train)\n",
    "y_pred = model.predict(X_test)\n",
    "print(\"Train RMSE = %.8f\" % mean_squared_error(y_train, model.predict(X_train), squared=False))\n",
    "print(\"Test RMSE = %.8f\" % mean_squared_error(y_test, y_pred, squared=False))\n",
    "print(\"Test R^2 = %.8f\" % metrics.r2_score(y_test, y_pred))"
   ]
  },
  {
   "cell_type": "markdown",
   "id": "a9f2f010",
   "metadata": {},
   "source": [
    "### RMSE получились, на мой взгляд довольно большими, учитывая, что мы пытаемся предсказывать долю клиентов, и $R^{2}$ тоже не очень высок (0.717 не так уж близко к 1, как хотелось бы), но пусть это будет нашей бейслайн моделью "
   ]
  },
  {
   "cell_type": "markdown",
   "id": "94ced189",
   "metadata": {},
   "source": [
    "### Попробуем выделить валидационную часть и по ней поискать более оптимальные значения коэффициента регуляризации, возможно, это поможет снизить RMSE"
   ]
  },
  {
   "cell_type": "code",
   "execution_count": 8,
   "id": "baf1677b",
   "metadata": {
    "ExecuteTime": {
     "end_time": "2022-03-15T09:22:16.138651Z",
     "start_time": "2022-03-15T09:22:16.112656Z"
    }
   },
   "outputs": [],
   "source": [
    "X_train_new, X_val, y_train_new, y_val = train_test_split(X_train, y_train, test_size=0.2, random_state=10)"
   ]
  },
  {
   "cell_type": "code",
   "execution_count": 11,
   "id": "702fcf90",
   "metadata": {
    "ExecuteTime": {
     "end_time": "2022-03-15T09:24:38.172240Z",
     "start_time": "2022-03-15T09:24:35.645254Z"
    }
   },
   "outputs": [
    {
     "name": "stdout",
     "output_type": "stream",
     "text": [
      "Best alpha = 0.00000100\n"
     ]
    },
    {
     "data": {
      "image/png": "[encoded data removed]",
      "text/plain": [
       "<Figure size 432x288 with 1 Axes>"
      ]
     },
     "metadata": {},
     "output_type": "display_data"
    }
   ],
   "source": [
    "from sklearn.model_selection import GridSearchCV\n",
    "from sklearn.model_selection import PredefinedSplit\n",
    "\n",
    "split_index = [-1 if x in X_train_new.index else 0 for x in X_train.index]\n",
    "pds = PredefinedSplit(test_fold=split_index)\n",
    "\n",
    "alphas = np.logspace(-6, 1, 20)\n",
    "searcher = GridSearchCV(pipeline, [{\"regression__alpha\": alphas}], scoring=\"neg_root_mean_squared_error\", cv=pds, n_jobs=-1)\n",
    "searcher.fit(X_train, y_train)\n",
    "\n",
    "best_alpha = searcher.best_params_[\"regression__alpha\"]\n",
    "print(\"Best alpha = %.8f\" % best_alpha)\n",
    "\n",
    "plt.plot(alphas, -searcher.cv_results_[\"mean_test_score\"])\n",
    "plt.xscale(\"log\")\n",
    "plt.xlabel(\"alpha\")\n",
    "plt.ylabel(\"CV score\")\n",
    "plt.show()"
   ]
  },
  {
   "cell_type": "code",
   "execution_count": 12,
   "id": "4e73dffd",
   "metadata": {
    "ExecuteTime": {
     "end_time": "2022-03-15T09:25:05.734315Z",
     "start_time": "2022-03-15T09:25:05.658311Z"
    }
   },
   "outputs": [
    {
     "name": "stdout",
     "output_type": "stream",
     "text": [
      "Test RMSE = 0.24267452\n"
     ]
    }
   ],
   "source": [
    "pipeline = Pipeline(steps=[\n",
    "    ('scale', column_transformer),\n",
    "    ('regression', Ridge(best_alpha))\n",
    "])\n",
    "\n",
    "model = pipeline.fit(X_train, y_train)\n",
    "y_pred = model.predict(X_test)\n",
    "print(\"Test RMSE = %.8f\" % mean_squared_error(y_test, y_pred, squared=False))"
   ]
  },
  {
   "cell_type": "markdown",
   "id": "472a67b7",
   "metadata": {},
   "source": [
    "### Качество не улучшилось. Попробуем проделать то же с Lasso-регрессией"
   ]
  },
  {
   "cell_type": "code",
   "execution_count": 16,
   "id": "c7da57e5",
   "metadata": {
    "ExecuteTime": {
     "end_time": "2022-03-15T09:27:22.260243Z",
     "start_time": "2022-03-15T09:27:19.815031Z"
    }
   },
   "outputs": [
    {
     "name": "stdout",
     "output_type": "stream",
     "text": [
      "Best alpha = 0.00000100\n"
     ]
    },
    {
     "data": {
      "image/png": "[encoded data removed]",
      "text/plain": [
       "<Figure size 432x288 with 1 Axes>"
      ]
     },
     "metadata": {},
     "output_type": "display_data"
    }
   ],
   "source": [
    "from sklearn.linear_model import Lasso\n",
    "lasso_pipeline = Pipeline(steps=[\n",
    "    ('scale', column_transformer),\n",
    "    ('regression', Lasso())\n",
    "])\n",
    "\n",
    "searcher = GridSearchCV(lasso_pipeline, [{\"regression__alpha\": alphas}], scoring=\"neg_root_mean_squared_error\", cv=pds, n_jobs=-1)\n",
    "searcher.fit(X_train, y_train)\n",
    "\n",
    "best_alpha1 = searcher.best_params_[\"regression__alpha\"]\n",
    "print(\"Best alpha = %.8f\" % best_alpha1)\n",
    "\n",
    "plt.plot(alphas, -searcher.cv_results_[\"mean_test_score\"])\n",
    "plt.xscale(\"log\")\n",
    "plt.xlabel(\"alpha\")\n",
    "plt.ylabel(\"CV score\")\n",
    "plt.show()"
   ]
  },
  {
   "cell_type": "code",
   "execution_count": 18,
   "id": "0656eb32",
   "metadata": {
    "ExecuteTime": {
     "end_time": "2022-03-15T09:28:28.066776Z",
     "start_time": "2022-03-15T09:28:28.011318Z"
    }
   },
   "outputs": [
    {
     "name": "stdout",
     "output_type": "stream",
     "text": [
      "Test RMSE = 0.24267442\n"
     ]
    }
   ],
   "source": [
    "pipeline = Pipeline(steps=[\n",
    "    ('scale', column_transformer),\n",
    "    ('regression', Lasso(best_alpha1))\n",
    "])\n",
    "\n",
    "model = pipeline.fit(X_train, y_train)\n",
    "y_pred = model.predict(X_test)\n",
    "print(\"Test RMSE = %.8f\" % mean_squared_error(y_test, y_pred, squared=False))"
   ]
  },
  {
   "cell_type": "markdown",
   "id": "8f1f73be",
   "metadata": {},
   "source": [
    "### Качество (функционал ошибки) улучшилось на 7 знаке после запятой. Незначительное улучшение."
   ]
  },
  {
   "cell_type": "markdown",
   "id": "ba31496c",
   "metadata": {},
   "source": [
    "### Попробуем теперь обучить, например, RandomForest"
   ]
  },
  {
   "cell_type": "code",
   "execution_count": 22,
   "id": "12f05ecb",
   "metadata": {
    "ExecuteTime": {
     "end_time": "2022-03-15T11:54:28.580778Z",
     "start_time": "2022-03-15T11:54:26.355495Z"
    }
   },
   "outputs": [
    {
     "name": "stdout",
     "output_type": "stream",
     "text": [
      "Test RMSE = 0.12449580\n"
     ]
    }
   ],
   "source": [
    "from sklearn.ensemble import RandomForestRegressor\n",
    "rfr = RandomForestRegressor(n_estimators=500, max_features=int(X_train.shape[1] / 3))\n",
    "rfr.fit(X_train, y_train)\n",
    "y_pred = rfr.predict(X_test)\n",
    "print(\"Test RMSE = %.8f\" % mean_squared_error(y_test, y_pred, squared=False))"
   ]
  },
  {
   "cell_type": "markdown",
   "id": "42376d55",
   "metadata": {},
   "source": [
    "### Хорошо, RMSE снизилось почти в 2 раза"
   ]
  },
  {
   "cell_type": "markdown",
   "id": "dce05410",
   "metadata": {},
   "source": [
    "### Можно ещё попробовать с помощью GridSearch поискать оптимальные гиперпараметры, и ещё улучшить нашу модель"
   ]
  },
  {
   "cell_type": "code",
   "execution_count": 32,
   "id": "ee272dcb",
   "metadata": {
    "ExecuteTime": {
     "end_time": "2022-03-15T12:08:52.062403Z",
     "start_time": "2022-03-15T12:08:52.036405Z"
    }
   },
   "outputs": [],
   "source": [
    "param_grid = {\n",
    "    'max_depth': [80, 90, 100],\n",
    "    'max_features': [1, 2, 3],\n",
    "    'min_samples_leaf': [3, 4, 5],\n",
    "    'min_samples_split': [8, 10, 12],\n",
    "    'n_estimators': [100, 300, 500, 700]\n",
    "#     'max_depth': [80, 100],\n",
    "#     'max_features': [1, 2],\n",
    "#     'min_samples_leaf': [3, 4, 5],\n",
    "#     'min_samples_split': [8, 10, 12],\n",
    "#     'n_estimators': [100, 300, 500, 600]\n",
    "}\n",
    "\n",
    "rfr_grid = RandomForestRegressor()\n",
    "grid_search = GridSearchCV(estimator = rfr_grid, param_grid = param_grid, scoring=\"neg_root_mean_squared_error\",\n",
    "                          cv = 3, n_jobs = -1)"
   ]
  },
  {
   "cell_type": "code",
   "execution_count": 33,
   "id": "d18350c2",
   "metadata": {
    "ExecuteTime": {
     "end_time": "2022-03-15T12:13:19.471737Z",
     "start_time": "2022-03-15T12:08:56.872135Z"
    }
   },
   "outputs": [
    {
     "name": "stdout",
     "output_type": "stream",
     "text": [
      "{'max_depth': 80, 'max_features': 3, 'min_samples_leaf': 3, 'min_samples_split': 8, 'n_estimators': 300}\n"
     ]
    }
   ],
   "source": [
    "grid_search.fit(X_train, y_train)\n",
    "print(grid_search.best_params_)"
   ]
  },
  {
   "cell_type": "code",
   "execution_count": 34,
   "id": "c61bc036",
   "metadata": {
    "ExecuteTime": {
     "end_time": "2022-03-15T12:13:19.487608Z",
     "start_time": "2022-03-15T12:13:19.475607Z"
    }
   },
   "outputs": [
    {
     "name": "stdout",
     "output_type": "stream",
     "text": [
      "0.10783582397393282\n"
     ]
    }
   ],
   "source": [
    "print(-grid_search.best_score_)"
   ]
  },
  {
   "cell_type": "code",
   "execution_count": 37,
   "id": "f449c776",
   "metadata": {
    "ExecuteTime": {
     "end_time": "2022-03-15T12:16:08.619194Z",
     "start_time": "2022-03-15T12:16:06.548539Z"
    }
   },
   "outputs": [
    {
     "name": "stdout",
     "output_type": "stream",
     "text": [
      "Test RMSE = 0.11746500\n"
     ]
    }
   ],
   "source": [
    "# best_grid = grid_search.best_estimator_\n",
    "# grid_accuracy = evaluate(best_grid, test_features, test_labels)\n",
    "\n",
    "# используем подобранные GridSearch'ем параметры\n",
    "rfr_best = RandomForestRegressor(n_estimators=300, max_features=3, max_depth=80, min_samples_leaf=3, min_samples_split=8)\n",
    "rfr_best.fit(X_train, y_train)\n",
    "y_pred = rfr_best.predict(X_test)\n",
    "print(\"Test RMSE = %.8f\" % mean_squared_error(y_test, y_pred, squared=False))"
   ]
  },
  {
   "cell_type": "markdown",
   "id": "bd7ff473",
   "metadata": {},
   "source": [
    "### RMSE снизился ещё на 0.007 "
   ]
  },
  {
   "cell_type": "markdown",
   "id": "a16c80a1",
   "metadata": {},
   "source": [
    "### Теперь постараемся решить MultiOutput задачу, то есть пусть таргетом теперь будет вектор из двух долей (нашей фирмы и конкурента)"
   ]
  },
  {
   "cell_type": "code",
   "execution_count": 38,
   "id": "ad1493cb",
   "metadata": {
    "ExecuteTime": {
     "end_time": "2022-03-15T12:53:42.607389Z",
     "start_time": "2022-03-15T12:53:40.912004Z"
    }
   },
   "outputs": [],
   "source": [
    "y1 = df[['Clients_ratio', 'Compet_ratio']]\n",
    "X1 = df.drop(columns=['Clients_ratio', 'Compet_ratio']).copy()\n",
    "X_train1, X_test1, y_train1, y_test1 = train_test_split(X1, y1, test_size=0.2, random_state=10)"
   ]
  },
  {
   "cell_type": "code",
   "execution_count": 40,
   "id": "a477db54",
   "metadata": {
    "ExecuteTime": {
     "end_time": "2022-03-15T12:53:51.543794Z",
     "start_time": "2022-03-15T12:53:51.519833Z"
    }
   },
   "outputs": [
    {
     "data": {
      "text/html": [
       "<div>\n",
       "<style scoped>\n",
       "    .dataframe tbody tr th:only-of-type {\n",
       "        vertical-align: middle;\n",
       "    }\n",
       "\n",
       "    .dataframe tbody tr th {\n",
       "        vertical-align: top;\n",
       "    }\n",
       "\n",
       "    .dataframe thead th {\n",
       "        text-align: right;\n",
       "    }\n",
       "</style>\n",
       "<table border=\"1\" class=\"dataframe\">\n",
       "  <thead>\n",
       "    <tr style=\"text-align: right;\">\n",
       "      <th></th>\n",
       "      <th>Clients_ratio</th>\n",
       "      <th>Compet_ratio</th>\n",
       "    </tr>\n",
       "  </thead>\n",
       "  <tbody>\n",
       "    <tr>\n",
       "      <th>493</th>\n",
       "      <td>0.996627</td>\n",
       "      <td>0.000046</td>\n",
       "    </tr>\n",
       "    <tr>\n",
       "      <th>349</th>\n",
       "      <td>0.919114</td>\n",
       "      <td>0.003665</td>\n",
       "    </tr>\n",
       "    <tr>\n",
       "      <th>248</th>\n",
       "      <td>0.000432</td>\n",
       "      <td>0.980468</td>\n",
       "    </tr>\n",
       "    <tr>\n",
       "      <th>1646</th>\n",
       "      <td>0.499606</td>\n",
       "      <td>0.013120</td>\n",
       "    </tr>\n",
       "    <tr>\n",
       "      <th>1787</th>\n",
       "      <td>0.985062</td>\n",
       "      <td>0.000423</td>\n",
       "    </tr>\n",
       "    <tr>\n",
       "      <th>...</th>\n",
       "      <td>...</td>\n",
       "      <td>...</td>\n",
       "    </tr>\n",
       "    <tr>\n",
       "      <th>2009</th>\n",
       "      <td>0.001658</td>\n",
       "      <td>0.906209</td>\n",
       "    </tr>\n",
       "    <tr>\n",
       "      <th>1180</th>\n",
       "      <td>0.041831</td>\n",
       "      <td>0.742339</td>\n",
       "    </tr>\n",
       "    <tr>\n",
       "      <th>1344</th>\n",
       "      <td>0.616651</td>\n",
       "      <td>0.058583</td>\n",
       "    </tr>\n",
       "    <tr>\n",
       "      <th>527</th>\n",
       "      <td>0.035511</td>\n",
       "      <td>0.850655</td>\n",
       "    </tr>\n",
       "    <tr>\n",
       "      <th>1289</th>\n",
       "      <td>0.013482</td>\n",
       "      <td>0.624102</td>\n",
       "    </tr>\n",
       "  </tbody>\n",
       "</table>\n",
       "<p>1984 rows × 2 columns</p>\n",
       "</div>"
      ],
      "text/plain": [
       "      Clients_ratio  Compet_ratio\n",
       "493        0.996627      0.000046\n",
       "349        0.919114      0.003665\n",
       "248        0.000432      0.980468\n",
       "1646       0.499606      0.013120\n",
       "1787       0.985062      0.000423\n",
       "...             ...           ...\n",
       "2009       0.001658      0.906209\n",
       "1180       0.041831      0.742339\n",
       "1344       0.616651      0.058583\n",
       "527        0.035511      0.850655\n",
       "1289       0.013482      0.624102\n",
       "\n",
       "[1984 rows x 2 columns]"
      ]
     },
     "execution_count": 40,
     "metadata": {},
     "output_type": "execute_result"
    }
   ],
   "source": [
    "y_train1"
   ]
  },
  {
   "cell_type": "markdown",
   "id": "11ea38e3",
   "metadata": {},
   "source": [
    "### Раз на SingleOutput задаче лучшим образом показал себя случайный лес, то можно предположить, что здесь он тоже может быть уместен."
   ]
  },
  {
   "cell_type": "code",
   "execution_count": 48,
   "id": "b2bb1d90",
   "metadata": {
    "ExecuteTime": {
     "end_time": "2022-03-15T13:12:03.957293Z",
     "start_time": "2022-03-15T13:12:01.886220Z"
    }
   },
   "outputs": [
    {
     "name": "stdout",
     "output_type": "stream",
     "text": [
      "Test RMSE = 0.12629704\n"
     ]
    }
   ],
   "source": [
    "rfr = RandomForestRegressor(n_estimators=500, max_features=int(X_train.shape[1] / 3))\n",
    "rfr.fit(X_train1, y_train1)\n",
    "y_pred1 = rfr.predict(X_test1)\n",
    "print(\"Test RMSE = %.8f\" % mean_squared_error(y_test1, y_pred1, squared=False))"
   ]
  },
  {
   "cell_type": "code",
   "execution_count": 49,
   "id": "4890a196",
   "metadata": {
    "ExecuteTime": {
     "end_time": "2022-03-15T13:12:05.570718Z",
     "start_time": "2022-03-15T13:12:05.549685Z"
    }
   },
   "outputs": [
    {
     "name": "stdout",
     "output_type": "stream",
     "text": [
      "Test RMSE (non-average by outputs) =  [0.12518286 0.12741122]\n"
     ]
    }
   ],
   "source": [
    "print(\"Test RMSE (non-average by outputs) = \", mean_squared_error(y_test1, y_pred1, squared=False, multioutput='raw_values'))"
   ]
  },
  {
   "cell_type": "markdown",
   "id": "d9321e34",
   "metadata": {},
   "source": [
    "### С Multi-Output регрессией лес справился почти так же хорошо, как и в случае с Single."
   ]
  },
  {
   "cell_type": "code",
   "execution_count": null,
   "id": "fba3ead7",
   "metadata": {},
   "outputs": [],
   "source": []
  },
  {
   "cell_type": "code",
   "execution_count": null,
   "id": "725d47d5",
   "metadata": {},
   "outputs": [],
   "source": []
  },
  {
   "cell_type": "code",
   "execution_count": null,
   "id": "6fcee894",
   "metadata": {},
   "outputs": [],
   "source": []
  }
 ],
 "metadata": {
  "kernelspec": {
   "display_name": "Python 3",
   "language": "python",
   "name": "python3"
  },
  "language_info": {
   "codemirror_mode": {
    "name": "ipython",
    "version": 3
   },
   "file_extension": ".py",
   "mimetype": "text/x-python",
   "name": "python",
   "nbconvert_exporter": "python",
   "pygments_lexer": "ipython3",
   "version": "3.8.8"
  }
 },
 "nbformat": 4,
 "nbformat_minor": 5
}
